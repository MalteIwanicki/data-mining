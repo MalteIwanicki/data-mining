{
 "cells": [
  {
   "cell_type": "markdown",
   "metadata": {},
   "source": [
    "# This is not good made and wrong. redo it"
   ]
  },
  {
   "cell_type": "code",
   "execution_count": 2,
   "metadata": {},
   "outputs": [],
   "source": [
    "import pandas as pd#"
   ]
  },
  {
   "cell_type": "code",
   "execution_count": 249,
   "metadata": {},
   "outputs": [],
   "source": [
    "ENTSCHEIDUNG=\"entscheidung\"\n",
    "NUMMER=\"nummer\"\n",
    "columns=[NUMMER,\"bekannt\",\"kindergerecht\",\"erw.-gerecht\",\"zuwachs\",\"günstig\",ENTSCHEIDUNG]\n",
    "data={\n",
    "    NUMMER:[1,2,3,4,5,6,7,8],\n",
    "    \"bekannt\":[1,1,1,0,0,1,0,0],\n",
    "    \"kindergerecht\":[1,0,1,0,1,0,0,1],\n",
    "    \"erw.-gerecht\":[1,1,0,1,1,1,1,0],\n",
    "    \"zuwachs\":[0,1,0,0,0,1,1,1],\n",
    "    \"günstig\":[0,0,1,1,0,1,1,0],\n",
    "    ENTSCHEIDUNG:[1,0,1,1,0,1,0,0]}"
   ]
  },
  {
   "cell_type": "code",
   "execution_count": 239,
   "metadata": {},
   "outputs": [
    {
     "data": {
      "text/html": [
       "<div>\n",
       "<style scoped>\n",
       "    .dataframe tbody tr th:only-of-type {\n",
       "        vertical-align: middle;\n",
       "    }\n",
       "\n",
       "    .dataframe tbody tr th {\n",
       "        vertical-align: top;\n",
       "    }\n",
       "\n",
       "    .dataframe thead th {\n",
       "        text-align: right;\n",
       "    }\n",
       "</style>\n",
       "<table border=\"1\" class=\"dataframe\">\n",
       "  <thead>\n",
       "    <tr style=\"text-align: right;\">\n",
       "      <th></th>\n",
       "      <th>nummer</th>\n",
       "      <th>bekannt</th>\n",
       "      <th>kindergerecht</th>\n",
       "      <th>erw.-gerecht</th>\n",
       "      <th>zuwachs</th>\n",
       "      <th>günstig</th>\n",
       "      <th>entscheidung</th>\n",
       "    </tr>\n",
       "  </thead>\n",
       "  <tbody>\n",
       "    <tr>\n",
       "      <th>0</th>\n",
       "      <td>1</td>\n",
       "      <td>1</td>\n",
       "      <td>1</td>\n",
       "      <td>1</td>\n",
       "      <td>0</td>\n",
       "      <td>0</td>\n",
       "      <td>1</td>\n",
       "    </tr>\n",
       "    <tr>\n",
       "      <th>1</th>\n",
       "      <td>2</td>\n",
       "      <td>1</td>\n",
       "      <td>0</td>\n",
       "      <td>1</td>\n",
       "      <td>1</td>\n",
       "      <td>0</td>\n",
       "      <td>0</td>\n",
       "    </tr>\n",
       "    <tr>\n",
       "      <th>2</th>\n",
       "      <td>3</td>\n",
       "      <td>1</td>\n",
       "      <td>1</td>\n",
       "      <td>0</td>\n",
       "      <td>0</td>\n",
       "      <td>1</td>\n",
       "      <td>1</td>\n",
       "    </tr>\n",
       "    <tr>\n",
       "      <th>3</th>\n",
       "      <td>4</td>\n",
       "      <td>0</td>\n",
       "      <td>0</td>\n",
       "      <td>1</td>\n",
       "      <td>0</td>\n",
       "      <td>1</td>\n",
       "      <td>1</td>\n",
       "    </tr>\n",
       "    <tr>\n",
       "      <th>4</th>\n",
       "      <td>5</td>\n",
       "      <td>0</td>\n",
       "      <td>1</td>\n",
       "      <td>1</td>\n",
       "      <td>0</td>\n",
       "      <td>0</td>\n",
       "      <td>0</td>\n",
       "    </tr>\n",
       "    <tr>\n",
       "      <th>5</th>\n",
       "      <td>6</td>\n",
       "      <td>1</td>\n",
       "      <td>0</td>\n",
       "      <td>1</td>\n",
       "      <td>1</td>\n",
       "      <td>1</td>\n",
       "      <td>1</td>\n",
       "    </tr>\n",
       "    <tr>\n",
       "      <th>6</th>\n",
       "      <td>7</td>\n",
       "      <td>0</td>\n",
       "      <td>0</td>\n",
       "      <td>1</td>\n",
       "      <td>1</td>\n",
       "      <td>1</td>\n",
       "      <td>0</td>\n",
       "    </tr>\n",
       "    <tr>\n",
       "      <th>7</th>\n",
       "      <td>8</td>\n",
       "      <td>0</td>\n",
       "      <td>1</td>\n",
       "      <td>0</td>\n",
       "      <td>1</td>\n",
       "      <td>0</td>\n",
       "      <td>0</td>\n",
       "    </tr>\n",
       "  </tbody>\n",
       "</table>\n",
       "</div>"
      ],
      "text/plain": [
       "   nummer  bekannt  kindergerecht  erw.-gerecht  zuwachs  günstig  \\\n",
       "0       1        1              1             1        0        0   \n",
       "1       2        1              0             1        1        0   \n",
       "2       3        1              1             0        0        1   \n",
       "3       4        0              0             1        0        1   \n",
       "4       5        0              1             1        0        0   \n",
       "5       6        1              0             1        1        1   \n",
       "6       7        0              0             1        1        1   \n",
       "7       8        0              1             0        1        0   \n",
       "\n",
       "   entscheidung  \n",
       "0             1  \n",
       "1             0  \n",
       "2             1  \n",
       "3             1  \n",
       "4             0  \n",
       "5             1  \n",
       "6             0  \n",
       "7             0  "
      ]
     },
     "execution_count": 239,
     "metadata": {},
     "output_type": "execute_result"
    }
   ],
   "source": [
    "df = pd.DataFrame(data)\n",
    "df"
   ]
  },
  {
   "cell_type": "code",
   "execution_count": null,
   "metadata": {},
   "outputs": [],
   "source": [
    "df.append(new_data,ignore_index=True)"
   ]
  },
  {
   "cell_type": "code",
   "execution_count": 215,
   "metadata": {},
   "outputs": [],
   "source": [
    "def _get_prior(df,column):\n",
    "    return df.groupby(column).size().div(len(df))"
   ]
  },
  {
   "cell_type": "code",
   "execution_count": 216,
   "metadata": {},
   "outputs": [],
   "source": [
    "def get_likelihood(df, key_test, key_result):\n",
    "    prior = _get_prior(df,key_result)\n",
    "    return df.groupby([key_result, key_test]).size().div(len(df)).div(prior)"
   ]
  },
  {
   "cell_type": "code",
   "execution_count": 255,
   "metadata": {},
   "outputs": [
    {
     "data": {
      "text/plain": [
       "0.5"
      ]
     },
     "execution_count": 255,
     "metadata": {},
     "output_type": "execute_result"
    }
   ],
   "source": [
    "sum(df[ENTSCHEIDUNG])/len(df)"
   ]
  },
  {
   "cell_type": "code",
   "execution_count": 257,
   "metadata": {},
   "outputs": [
    {
     "data": {
      "text/html": [
       "<div>\n",
       "<style scoped>\n",
       "    .dataframe tbody tr th:only-of-type {\n",
       "        vertical-align: middle;\n",
       "    }\n",
       "\n",
       "    .dataframe tbody tr th {\n",
       "        vertical-align: top;\n",
       "    }\n",
       "\n",
       "    .dataframe thead th {\n",
       "        text-align: right;\n",
       "    }\n",
       "</style>\n",
       "<table border=\"1\" class=\"dataframe\">\n",
       "  <thead>\n",
       "    <tr style=\"text-align: right;\">\n",
       "      <th></th>\n",
       "      <th>key</th>\n",
       "      <th>1</th>\n",
       "      <th>0</th>\n",
       "    </tr>\n",
       "  </thead>\n",
       "  <tbody>\n",
       "    <tr>\n",
       "      <th>0</th>\n",
       "      <td>bekannt | Ja</td>\n",
       "      <td>0.75</td>\n",
       "      <td>0.25</td>\n",
       "    </tr>\n",
       "    <tr>\n",
       "      <th>1</th>\n",
       "      <td>kindergerecht | Ja</td>\n",
       "      <td>0.50</td>\n",
       "      <td>0.50</td>\n",
       "    </tr>\n",
       "    <tr>\n",
       "      <th>2</th>\n",
       "      <td>erw.-gerecht | Ja</td>\n",
       "      <td>0.75</td>\n",
       "      <td>0.75</td>\n",
       "    </tr>\n",
       "    <tr>\n",
       "      <th>3</th>\n",
       "      <td>zuwachs | Ja</td>\n",
       "      <td>0.25</td>\n",
       "      <td>0.75</td>\n",
       "    </tr>\n",
       "    <tr>\n",
       "      <th>4</th>\n",
       "      <td>günstig | Ja</td>\n",
       "      <td>0.75</td>\n",
       "      <td>0.25</td>\n",
       "    </tr>\n",
       "    <tr>\n",
       "      <th>5</th>\n",
       "      <td>entscheidung</td>\n",
       "      <td>0.50</td>\n",
       "      <td>0.50</td>\n",
       "    </tr>\n",
       "  </tbody>\n",
       "</table>\n",
       "</div>"
      ],
      "text/plain": [
       "                  key     1     0\n",
       "0        bekannt | Ja  0.75  0.25\n",
       "1  kindergerecht | Ja  0.50  0.50\n",
       "2   erw.-gerecht | Ja  0.75  0.75\n",
       "3        zuwachs | Ja  0.25  0.75\n",
       "4        günstig | Ja  0.75  0.25\n",
       "5        entscheidung  0.50  0.50"
      ]
     },
     "execution_count": 257,
     "metadata": {},
     "output_type": "execute_result"
    }
   ],
   "source": [
    "JA=1; NEIN=0\n",
    "wahrscheinlichkeiten=[]\n",
    "for schlüssel in df:\n",
    "    if schlüssel==NUMMER or schlüssel==ENTSCHEIDUNG: continue\n",
    "    likelihood=get_likelihood(df,schlüssel,ENTSCHEIDUNG)\n",
    "    data={\"key\":schlüssel+' | Ja',JA:likelihood[JA][1],NEIN:likelihood[NEIN][1]}\n",
    "    wahrscheinlichkeiten.append(data)\n",
    "total={\"key\":ENTSCHEIDUNG,JA:sum(df[ENTSCHEIDUNG])/len(df),NEIN:1-sum(df[ENTSCHEIDUNG])/len(df)}\n",
    "wahrscheinlichkeiten.append(total)\n",
    "p=pd.DataFrame(wahrscheinlichkeiten)\n",
    "p"
   ]
  },
  {
   "cell_type": "code",
   "execution_count": 251,
   "metadata": {},
   "outputs": [],
   "source": [
    "new_data=[None,1,0,1,0,0]\n",
    "new_data={key:value for key,value in zip(columns,new_data)}\n",
    "new_data[NUMMER]=max(df[NUMMER])+1"
   ]
  },
  {
   "cell_type": "code",
   "execution_count": 252,
   "metadata": {},
   "outputs": [
    {
     "data": {
      "text/plain": [
       "{'nummer': 9,\n",
       " 'bekannt': 1,\n",
       " 'kindergerecht': 0,\n",
       " 'erw.-gerecht': 1,\n",
       " 'zuwachs': 0,\n",
       " 'günstig': 0}"
      ]
     },
     "execution_count": 252,
     "metadata": {},
     "output_type": "execute_result"
    }
   ],
   "source": [
    "new_data"
   ]
  },
  {
   "cell_type": "code",
   "execution_count": 261,
   "metadata": {},
   "outputs": [
    {
     "name": "stdout",
     "output_type": "stream",
     "text": [
      "bekannt 0.75\n",
      "kindergerecht 0.5\n",
      "erw.-gerecht 0.75\n",
      "zuwachs 0.75\n",
      "günstig 0.25\n"
     ]
    },
    {
     "data": {
      "text/plain": [
       "0.052734375"
      ]
     },
     "execution_count": 261,
     "metadata": {},
     "output_type": "execute_result"
    }
   ],
   "source": [
    "def get_entscheidung(p, data):\n",
    "    result=1\n",
    "    for key in data:\n",
    "        if key==NUMMER: continue\n",
    "        print (key, end=\" \")\n",
    "        row = p.loc[p['key'] == key+\" | Ja\"]\n",
    "        print(float(row[data[key]]))\n",
    "        result= result * float(row[data[key]])\n",
    "    return result\n",
    "get_entscheidung(p,new_data)"
   ]
  },
  {
   "cell_type": "code",
   "execution_count": null,
   "metadata": {},
   "outputs": [],
   "source": []
  }
 ],
 "metadata": {
  "interpreter": {
   "hash": "b89b5cfaba6639976dc87ff2fec6d58faec662063367e2c229c520fe71072417"
  },
  "kernelspec": {
   "display_name": "Python 3.10.0 64-bit",
   "language": "python",
   "name": "python3"
  },
  "language_info": {
   "codemirror_mode": {
    "name": "ipython",
    "version": 3
   },
   "file_extension": ".py",
   "mimetype": "text/x-python",
   "name": "python",
   "nbconvert_exporter": "python",
   "pygments_lexer": "ipython3",
   "version": "3.10.0"
  },
  "orig_nbformat": 4
 },
 "nbformat": 4,
 "nbformat_minor": 2
}
