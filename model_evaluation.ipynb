{
 "cells": [
  {
   "cell_type": "markdown",
   "metadata": {},
   "source": [
    "# g_k = ( RP + RN ) / ( P + N )"
   ]
  },
  {
   "cell_type": "code",
   "execution_count": 36,
   "metadata": {},
   "outputs": [],
   "source": [
    "RP = \"RP\" # right positive\n",
    "FP = \"FP\" # false positive\n",
    "RN = \"RN\" # right negative\n",
    "FN = \"FN\" # false positive\n",
    "\n",
    "data = {RP: None, RN: None, FP: None, FN: None }\n",
    "\n",
    "POSITIVES = lambda RP, FN : RP + FN\n",
    "NEGATIVES = lambda RN, FP : RN + FP"
   ]
  },
  {
   "cell_type": "markdown",
   "metadata": {},
   "source": [
    "# Genauigkeit"
   ]
  },
  {
   "cell_type": "code",
   "execution_count": 37,
   "metadata": {},
   "outputs": [],
   "source": [
    "def genauigkeit(RP, RN, FP, FN): # Genauigkeit\n",
    "    pos = POSITIVES(RP,FN)\n",
    "    neg = NEGATIVES(RN,FP)\n",
    "    return (RP + RN) / (pos + neg)"
   ]
  },
  {
   "cell_type": "code",
   "execution_count": 38,
   "metadata": {},
   "outputs": [],
   "source": [
    "def genauigkeit2(RP, RN, FP, FN): # Genauigkeit mit spezifität und sensitivität\n",
    "    st = sensitivität(RP,FN)\n",
    "    sp = spezifität(RN,FP)\n",
    "    pos = POSITIVES(RP,FN)\n",
    "    neg = NEGATIVES(RN,FP)\n",
    "    return st*(pos / (pos + neg)) + sp*(neg / (pos + neg))"
   ]
  },
  {
   "cell_type": "markdown",
   "metadata": {},
   "source": [
    "# Fehlerrate"
   ]
  },
  {
   "cell_type": "code",
   "execution_count": 39,
   "metadata": {},
   "outputs": [],
   "source": [
    "def fehlerrate(RP, RN, FP, FN): # fr\n",
    "    return 1 - genauigkeit(RP, RN, FP, FN) "
   ]
  },
  {
   "cell_type": "markdown",
   "metadata": {},
   "source": [
    "# Sensitivität\n",
    "wie oft ein fall erkannt wird."
   ]
  },
  {
   "cell_type": "code",
   "execution_count": 40,
   "metadata": {},
   "outputs": [],
   "source": [
    "def sensitivität(RP, FN): # st\n",
    "    return RP / POSITIVES(RP,FN)"
   ]
  },
  {
   "cell_type": "markdown",
   "metadata": {},
   "source": [
    "# Spezifität"
   ]
  },
  {
   "cell_type": "code",
   "execution_count": 41,
   "metadata": {},
   "outputs": [],
   "source": [
    "def spezifität(RN, FP): # sp\n",
    "    return RN / NEGATIVES(RN,FP)"
   ]
  },
  {
   "cell_type": "markdown",
   "metadata": {},
   "source": [
    "# Präzision"
   ]
  },
  {
   "cell_type": "code",
   "execution_count": 44,
   "metadata": {},
   "outputs": [],
   "source": [
    "def präzision(RP, FP): # pr\n",
    "    return RP / (RP+ FP)"
   ]
  },
  {
   "cell_type": "markdown",
   "metadata": {},
   "source": [
    "# F-Maß"
   ]
  },
  {
   "cell_type": "code",
   "execution_count": 52,
   "metadata": {},
   "outputs": [],
   "source": [
    "def f_maß(RP, FP, FN): # f1 maß\n",
    "    pr = präzision(RP,FP)\n",
    "    st = sensitivität(RP,FN)\n",
    "    return (2 * pr * st) / (pr + st)"
   ]
  },
  {
   "cell_type": "markdown",
   "metadata": {},
   "source": [
    "# F_ß-Maß"
   ]
  },
  {
   "cell_type": "code",
   "execution_count": 51,
   "metadata": {},
   "outputs": [],
   "source": [
    "def f_ß_maß(RP,FP,FN, gewichtung):\n",
    "    ß = gewichtung\n",
    "    pr = präzision(RP, FP)\n",
    "    st = sensitivität(RP, FN)\n",
    "    return ((1 + ß**2) * pr * st) / (ß**2 * pr + st)"
   ]
  },
  {
   "cell_type": "markdown",
   "metadata": {},
   "source": [
    "# Einsendeaufgabe"
   ]
  },
  {
   "cell_type": "code",
   "execution_count": 42,
   "metadata": {},
   "outputs": [],
   "source": [
    "einhorn_data = {RP:99, RN:72155, FP: 256, FN:9090}"
   ]
  },
  {
   "cell_type": "code",
   "execution_count": 57,
   "metadata": {},
   "outputs": [
    {
     "name": "stdout",
     "output_type": "stream",
     "text": [
      "genauigkeit:  0.885\n",
      "genauigkeit2:  0.885\n",
      "fehlerrate:  0.115\n",
      "sensitivität 0.011\n",
      "spezifität 0.996\n",
      "präzision:  0.279\n",
      "f-maß:  0.021\n",
      "f1-maß:  0.021\n",
      "f_0.5-maß:  0.047\n",
      "f_2-maß:  0.013\n"
     ]
    }
   ],
   "source": [
    "_RP=einhorn_data[RP]\n",
    "_RN=einhorn_data[RN]\n",
    "_FP=einhorn_data[FP]\n",
    "_FN=einhorn_data[FN]\n",
    "\n",
    "print(\"genauigkeit: \", round(genauigkeit(_RP,_RN,_FP,_FN),3))\n",
    "print(\"genauigkeit2: \", round(genauigkeit2(_RP,_RN,_FP,_FN),3))\n",
    "print(\"fehlerrate: \", round(fehlerrate(_RP,_RN,_FP,_FN),3))\n",
    "print(\"sensitivität\", round (sensitivität(_RP, _FN),3))\n",
    "print(\"spezifität\", round (spezifität(_RN, _FP),3))\n",
    "print(\"präzision: \", round(präzision(_RP,_FP),3))\n",
    "print(\"f-maß: \", round(f_maß(_RP,_FP,_FN),3))\n",
    "print(\"f1-maß: \", round(f_ß_maß(_RP,_FP,_FN,1),3))\n",
    "print(\"f_0.5-maß: \", round(f_ß_maß(_RP,_FP,_FN,0.5),3))\n",
    "print(\"f_2-maß: \", round(f_ß_maß(_RP,_FP,_FN,2),3))"
   ]
  }
 ],
 "metadata": {
  "interpreter": {
   "hash": "b89b5cfaba6639976dc87ff2fec6d58faec662063367e2c229c520fe71072417"
  },
  "kernelspec": {
   "display_name": "Python 3.10.0 64-bit",
   "language": "python",
   "name": "python3"
  },
  "language_info": {
   "codemirror_mode": {
    "name": "ipython",
    "version": 3
   },
   "file_extension": ".py",
   "mimetype": "text/x-python",
   "name": "python",
   "nbconvert_exporter": "python",
   "pygments_lexer": "ipython3",
   "version": "3.10.0"
  },
  "orig_nbformat": 4
 },
 "nbformat": 4,
 "nbformat_minor": 2
}
