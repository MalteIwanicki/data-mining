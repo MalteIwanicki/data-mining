{
 "cells": [
  {
   "cell_type": "markdown",
   "metadata": {},
   "source": [
    "# Pearson Korrelation"
   ]
  },
  {
   "cell_type": "code",
   "execution_count": 2,
   "metadata": {},
   "outputs": [],
   "source": [
    "import pandas as pd\n",
    "from math import sqrt"
   ]
  },
  {
   "cell_type": "markdown",
   "metadata": {},
   "source": [
    "<img src=\"img/pearson algorithm.png\" alt=\"Drawing\" style=\"width: 600px;\"/>\n"
   ]
  },
  {
   "cell_type": "code",
   "execution_count": 3,
   "metadata": {},
   "outputs": [],
   "source": [
    "def get_pearson(vector_x, vector_y):\n",
    "    if len(vector_x) is not len(vector_y): raise Exception(\"vectors must have same length\")\n",
    "    length = len(vector_x)\n",
    "    x = vector_x\n",
    "    y = vector_y\n",
    "    \n",
    "    mean = lambda vector: sum(vector)/len(vector)\n",
    "    x_mean = mean(x)\n",
    "    y_mean = mean(y)\n",
    "    \n",
    "    sqr_vector = lambda vector: [element ** 2 for element in vector]\n",
    "    x_sqr = sqr_vector(x)\n",
    "    y_sqr = sqr_vector(y)\n",
    "    \n",
    "    x_y = [x[i]*y[i] for i in range(length)]\n",
    "    \n",
    "    top = (sum(x_y)-length*x_mean*y_mean)\n",
    "    bottom = sqrt((sum(x_sqr)-length*x_mean**2)*(sum(y_sqr)-length*y_mean**2))\n",
    "    return round(top / bottom,3)\n"
   ]
  },
  {
   "cell_type": "markdown",
   "metadata": {},
   "source": [
    "<img src=\"img/pearson simplified.png\" alt=\"Drawing\" style=\"width: 600px;\"/>"
   ]
  },
  {
   "cell_type": "code",
   "execution_count": 4,
   "metadata": {},
   "outputs": [
    {
     "data": {
      "text/plain": [
       "True"
      ]
     },
     "execution_count": 4,
     "metadata": {},
     "output_type": "execute_result"
    }
   ],
   "source": [
    "test = pd.DataFrame({\"Name\": [\"x\", \"y\"], \"feat1\": [3, 5], \"feat2\": [2, 3], \"feat3\": [4, 7]}).set_index(\"Name\")\n",
    "x = list(test.loc[\"x\"])\n",
    "y = list(test.loc[\"y\"])\n",
    "get_pearson(x,y) == 1"
   ]
  },
  {
   "cell_type": "code",
   "execution_count": 5,
   "metadata": {},
   "outputs": [
    {
     "data": {
      "text/html": [
       "<div>\n",
       "<style scoped>\n",
       "    .dataframe tbody tr th:only-of-type {\n",
       "        vertical-align: middle;\n",
       "    }\n",
       "\n",
       "    .dataframe tbody tr th {\n",
       "        vertical-align: top;\n",
       "    }\n",
       "\n",
       "    .dataframe thead th {\n",
       "        text-align: right;\n",
       "    }\n",
       "</style>\n",
       "<table border=\"1\" class=\"dataframe\">\n",
       "  <thead>\n",
       "    <tr style=\"text-align: right;\">\n",
       "      <th></th>\n",
       "      <th>Nahkampf</th>\n",
       "      <th>Fernkampf</th>\n",
       "      <th>Gut</th>\n",
       "      <th>General</th>\n",
       "      <th>Einzelkämpfer</th>\n",
       "      <th>hochgeboren</th>\n",
       "    </tr>\n",
       "    <tr>\n",
       "      <th>Name</th>\n",
       "      <th></th>\n",
       "      <th></th>\n",
       "      <th></th>\n",
       "      <th></th>\n",
       "      <th></th>\n",
       "      <th></th>\n",
       "    </tr>\n",
       "  </thead>\n",
       "  <tbody>\n",
       "    <tr>\n",
       "      <th>Aragorn</th>\n",
       "      <td>5</td>\n",
       "      <td>1</td>\n",
       "      <td>4</td>\n",
       "      <td>4</td>\n",
       "      <td>5</td>\n",
       "      <td>4</td>\n",
       "    </tr>\n",
       "    <tr>\n",
       "      <th>Robin Hood</th>\n",
       "      <td>3</td>\n",
       "      <td>5</td>\n",
       "      <td>5</td>\n",
       "      <td>3</td>\n",
       "      <td>3</td>\n",
       "      <td>2</td>\n",
       "    </tr>\n",
       "    <tr>\n",
       "      <th>Delenn</th>\n",
       "      <td>2</td>\n",
       "      <td>4</td>\n",
       "      <td>4</td>\n",
       "      <td>5</td>\n",
       "      <td>2</td>\n",
       "      <td>2</td>\n",
       "    </tr>\n",
       "    <tr>\n",
       "      <th>Black Widow</th>\n",
       "      <td>5</td>\n",
       "      <td>3</td>\n",
       "      <td>3</td>\n",
       "      <td>0</td>\n",
       "      <td>5</td>\n",
       "      <td>1</td>\n",
       "    </tr>\n",
       "  </tbody>\n",
       "</table>\n",
       "</div>"
      ],
      "text/plain": [
       "             Nahkampf  Fernkampf  Gut  General  Einzelkämpfer  hochgeboren\n",
       "Name                                                                      \n",
       "Aragorn             5          1    4        4              5            4\n",
       "Robin Hood          3          5    5        3              3            2\n",
       "Delenn              2          4    4        5              2            2\n",
       "Black Widow         5          3    3        0              5            1"
      ]
     },
     "execution_count": 5,
     "metadata": {},
     "output_type": "execute_result"
    }
   ],
   "source": [
    "fighters = pd.DataFrame(\n",
    "    {\n",
    "        \"Name\": [\"Aragorn\", \"Robin Hood\", \"Delenn\", \"Black Widow\"],\n",
    "        \"Nahkampf\": [5, 3, 2, 5],\n",
    "        \"Fernkampf\": [1, 5, 4, 3],\n",
    "        \"Gut\": [4, 5, 4, 3],\n",
    "        \"General\": [4, 3, 5, 0],\n",
    "        \"Einzelkämpfer\": [5, 3, 2, 5],\n",
    "        \"hochgeboren\": [4, 2, 2, 1],\n",
    "    }\n",
    ").set_index(\"Name\")\n",
    "fighters\n"
   ]
  },
  {
   "cell_type": "markdown",
   "metadata": {},
   "source": [
    "Wer soll nebereinander sitzen, damit Gute Gespräche entstehen?"
   ]
  },
  {
   "cell_type": "code",
   "execution_count": 6,
   "metadata": {},
   "outputs": [
    {
     "data": {
      "text/html": [
       "<div>\n",
       "<style scoped>\n",
       "    .dataframe tbody tr th:only-of-type {\n",
       "        vertical-align: middle;\n",
       "    }\n",
       "\n",
       "    .dataframe tbody tr th {\n",
       "        vertical-align: top;\n",
       "    }\n",
       "\n",
       "    .dataframe thead th {\n",
       "        text-align: right;\n",
       "    }\n",
       "</style>\n",
       "<table border=\"1\" class=\"dataframe\">\n",
       "  <thead>\n",
       "    <tr style=\"text-align: right;\">\n",
       "      <th></th>\n",
       "      <th>Name</th>\n",
       "      <th>Aragorn</th>\n",
       "      <th>Robin Hood</th>\n",
       "      <th>Delenn</th>\n",
       "      <th>Black Widow</th>\n",
       "    </tr>\n",
       "  </thead>\n",
       "  <tbody>\n",
       "    <tr>\n",
       "      <th>0</th>\n",
       "      <td>Aragorn</td>\n",
       "      <td>1.000</td>\n",
       "      <td>-0.610</td>\n",
       "      <td>-0.494</td>\n",
       "      <td>0.255</td>\n",
       "    </tr>\n",
       "    <tr>\n",
       "      <th>1</th>\n",
       "      <td>Robin Hood</td>\n",
       "      <td>-0.610</td>\n",
       "      <td>1.000</td>\n",
       "      <td>0.553</td>\n",
       "      <td>0.200</td>\n",
       "    </tr>\n",
       "    <tr>\n",
       "      <th>2</th>\n",
       "      <td>Delenn</td>\n",
       "      <td>-0.494</td>\n",
       "      <td>0.553</td>\n",
       "      <td>1.000</td>\n",
       "      <td>-0.577</td>\n",
       "    </tr>\n",
       "    <tr>\n",
       "      <th>3</th>\n",
       "      <td>Black Widow</td>\n",
       "      <td>0.255</td>\n",
       "      <td>0.200</td>\n",
       "      <td>-0.577</td>\n",
       "      <td>1.000</td>\n",
       "    </tr>\n",
       "  </tbody>\n",
       "</table>\n",
       "</div>"
      ],
      "text/plain": [
       "          Name  Aragorn  Robin Hood  Delenn  Black Widow\n",
       "0      Aragorn    1.000      -0.610  -0.494        0.255\n",
       "1   Robin Hood   -0.610       1.000   0.553        0.200\n",
       "2       Delenn   -0.494       0.553   1.000       -0.577\n",
       "3  Black Widow    0.255       0.200  -0.577        1.000"
      ]
     },
     "execution_count": 6,
     "metadata": {},
     "output_type": "execute_result"
    }
   ],
   "source": [
    "match={\"Name\":[]}\n",
    "for name, fighter in fighters.iterrows():\n",
    "    match[\"Name\"].append(name)\n",
    "    match[name]=[get_pearson(fighter,other) for name_b, other in fighters.iterrows()]\n",
    "pd.DataFrame(match)"
   ]
  },
  {
   "cell_type": "markdown",
   "metadata": {},
   "source": [
    "# Kosinus Ähnlichkeit\n",
    "<img src=\"img/pearsonKosinus.png\" alt=\"Drawing\" style=\"width: 600px;\"/>"
   ]
  },
  {
   "cell_type": "code",
   "execution_count": 71,
   "metadata": {},
   "outputs": [],
   "source": [
    "def get_cosinus(vector_u, vector_v):\n",
    "    u = []\n",
    "    v = []\n",
    "    for element_u, element_v in zip(vector_u, vector_v):\n",
    "        # https://stackoverflow.com/a/44154660/14551419\n",
    "        if (element_u == element_u)  and (element_v == element_v):\n",
    "            u.append(element_u)\n",
    "            v.append(element_v)\n",
    "\n",
    "    sqr_vector = lambda vector: [element ** 2 for element in vector]\n",
    "    u_sqr = sqr_vector(u)\n",
    "    v_sqr = sqr_vector(v)\n",
    "\n",
    "    u_v = [element_u * element_v for element_u, element_v in zip(u, v)]\n",
    "    top = sum(u_v)\n",
    "    bottom = sqrt(sum(u_sqr) * sum(v_sqr))\n",
    "    return top / bottom\n",
    "\n"
   ]
  },
  {
   "cell_type": "code",
   "execution_count": 24,
   "metadata": {},
   "outputs": [
    {
     "data": {
      "text/html": [
       "<div>\n",
       "<style scoped>\n",
       "    .dataframe tbody tr th:only-of-type {\n",
       "        vertical-align: middle;\n",
       "    }\n",
       "\n",
       "    .dataframe tbody tr th {\n",
       "        vertical-align: top;\n",
       "    }\n",
       "\n",
       "    .dataframe thead th {\n",
       "        text-align: right;\n",
       "    }\n",
       "</style>\n",
       "<table border=\"1\" class=\"dataframe\">\n",
       "  <thead>\n",
       "    <tr style=\"text-align: right;\">\n",
       "      <th></th>\n",
       "      <th>Klötze</th>\n",
       "      <th>Barbie</th>\n",
       "      <th>Comic</th>\n",
       "      <th>Frisbee</th>\n",
       "      <th>Münze</th>\n",
       "    </tr>\n",
       "    <tr>\n",
       "      <th>Name</th>\n",
       "      <th></th>\n",
       "      <th></th>\n",
       "      <th></th>\n",
       "      <th></th>\n",
       "      <th></th>\n",
       "    </tr>\n",
       "  </thead>\n",
       "  <tbody>\n",
       "    <tr>\n",
       "      <th>Anna</th>\n",
       "      <td>4</td>\n",
       "      <td>NaN</td>\n",
       "      <td>NaN</td>\n",
       "      <td>3.0</td>\n",
       "      <td>0.0</td>\n",
       "    </tr>\n",
       "    <tr>\n",
       "      <th>Bertram</th>\n",
       "      <td>0</td>\n",
       "      <td>1.0</td>\n",
       "      <td>2.0</td>\n",
       "      <td>4.0</td>\n",
       "      <td>2.0</td>\n",
       "    </tr>\n",
       "    <tr>\n",
       "      <th>Cristin</th>\n",
       "      <td>1</td>\n",
       "      <td>3.0</td>\n",
       "      <td>5.0</td>\n",
       "      <td>0.0</td>\n",
       "      <td>3.0</td>\n",
       "    </tr>\n",
       "    <tr>\n",
       "      <th>Dietmar</th>\n",
       "      <td>4</td>\n",
       "      <td>NaN</td>\n",
       "      <td>0.0</td>\n",
       "      <td>NaN</td>\n",
       "      <td>0.0</td>\n",
       "    </tr>\n",
       "    <tr>\n",
       "      <th>Erika</th>\n",
       "      <td>2</td>\n",
       "      <td>5.0</td>\n",
       "      <td>3.0</td>\n",
       "      <td>NaN</td>\n",
       "      <td>NaN</td>\n",
       "    </tr>\n",
       "    <tr>\n",
       "      <th>Friedrich</th>\n",
       "      <td>1</td>\n",
       "      <td>3.0</td>\n",
       "      <td>NaN</td>\n",
       "      <td>5.0</td>\n",
       "      <td>3.0</td>\n",
       "    </tr>\n",
       "  </tbody>\n",
       "</table>\n",
       "</div>"
      ],
      "text/plain": [
       "           Klötze  Barbie  Comic  Frisbee  Münze\n",
       "Name                                            \n",
       "Anna            4     NaN    NaN      3.0    0.0\n",
       "Bertram         0     1.0    2.0      4.0    2.0\n",
       "Cristin         1     3.0    5.0      0.0    3.0\n",
       "Dietmar         4     NaN    0.0      NaN    0.0\n",
       "Erika           2     5.0    3.0      NaN    NaN\n",
       "Friedrich       1     3.0    NaN      5.0    3.0"
      ]
     },
     "execution_count": 24,
     "metadata": {},
     "output_type": "execute_result"
    }
   ],
   "source": [
    "toys = pd.DataFrame(\n",
    "    {\n",
    "        \"Name\": [\"Anna\", \"Bertram\", \"Cristin\", \"Dietmar\", \"Erika\", \"Friedrich\"],\n",
    "        \"Klötze\": [4, 0, 1, 4, 2, 1],\n",
    "        \"Barbie\": [None, 1, 3, None, 5, 3],\n",
    "        \"Comic\": [None, 2, 5, 0, 3, None],\n",
    "        \"Frisbee\": [3, 4, 0, None, None, 5],\n",
    "        \"Münze\": [0, 2, 3, 0, None, 3],\n",
    "    }\n",
    ")\n",
    "toys = toys.set_index(\"Name\")\n",
    "toys\n"
   ]
  },
  {
   "cell_type": "code",
   "execution_count": 57,
   "metadata": {},
   "outputs": [],
   "source": [
    "def normalize(df):\n",
    "    return df.apply(lambda x: round(x - x.mean(),3), axis=1)\n"
   ]
  },
  {
   "cell_type": "code",
   "execution_count": 58,
   "metadata": {},
   "outputs": [
    {
     "data": {
      "text/html": [
       "<div>\n",
       "<style scoped>\n",
       "    .dataframe tbody tr th:only-of-type {\n",
       "        vertical-align: middle;\n",
       "    }\n",
       "\n",
       "    .dataframe tbody tr th {\n",
       "        vertical-align: top;\n",
       "    }\n",
       "\n",
       "    .dataframe thead th {\n",
       "        text-align: right;\n",
       "    }\n",
       "</style>\n",
       "<table border=\"1\" class=\"dataframe\">\n",
       "  <thead>\n",
       "    <tr style=\"text-align: right;\">\n",
       "      <th></th>\n",
       "      <th>Klötze</th>\n",
       "      <th>Barbie</th>\n",
       "      <th>Comic</th>\n",
       "      <th>Frisbee</th>\n",
       "      <th>Münze</th>\n",
       "    </tr>\n",
       "    <tr>\n",
       "      <th>Name</th>\n",
       "      <th></th>\n",
       "      <th></th>\n",
       "      <th></th>\n",
       "      <th></th>\n",
       "      <th></th>\n",
       "    </tr>\n",
       "  </thead>\n",
       "  <tbody>\n",
       "    <tr>\n",
       "      <th>Anna</th>\n",
       "      <td>1.667</td>\n",
       "      <td>NaN</td>\n",
       "      <td>NaN</td>\n",
       "      <td>0.667</td>\n",
       "      <td>-2.333</td>\n",
       "    </tr>\n",
       "    <tr>\n",
       "      <th>Bertram</th>\n",
       "      <td>-1.800</td>\n",
       "      <td>-0.800</td>\n",
       "      <td>0.200</td>\n",
       "      <td>2.200</td>\n",
       "      <td>0.200</td>\n",
       "    </tr>\n",
       "    <tr>\n",
       "      <th>Cristin</th>\n",
       "      <td>-1.400</td>\n",
       "      <td>0.600</td>\n",
       "      <td>2.600</td>\n",
       "      <td>-2.400</td>\n",
       "      <td>0.600</td>\n",
       "    </tr>\n",
       "    <tr>\n",
       "      <th>Dietmar</th>\n",
       "      <td>2.667</td>\n",
       "      <td>NaN</td>\n",
       "      <td>-1.333</td>\n",
       "      <td>NaN</td>\n",
       "      <td>-1.333</td>\n",
       "    </tr>\n",
       "    <tr>\n",
       "      <th>Erika</th>\n",
       "      <td>-1.333</td>\n",
       "      <td>1.667</td>\n",
       "      <td>-0.333</td>\n",
       "      <td>NaN</td>\n",
       "      <td>NaN</td>\n",
       "    </tr>\n",
       "    <tr>\n",
       "      <th>Friedrich</th>\n",
       "      <td>-2.000</td>\n",
       "      <td>0.000</td>\n",
       "      <td>NaN</td>\n",
       "      <td>2.000</td>\n",
       "      <td>0.000</td>\n",
       "    </tr>\n",
       "  </tbody>\n",
       "</table>\n",
       "</div>"
      ],
      "text/plain": [
       "           Klötze  Barbie  Comic  Frisbee  Münze\n",
       "Name                                            \n",
       "Anna        1.667     NaN    NaN    0.667 -2.333\n",
       "Bertram    -1.800  -0.800  0.200    2.200  0.200\n",
       "Cristin    -1.400   0.600  2.600   -2.400  0.600\n",
       "Dietmar     2.667     NaN -1.333      NaN -1.333\n",
       "Erika      -1.333   1.667 -0.333      NaN    NaN\n",
       "Friedrich  -2.000   0.000    NaN    2.000  0.000"
      ]
     },
     "execution_count": 58,
     "metadata": {},
     "output_type": "execute_result"
    }
   ],
   "source": [
    "toys_normalized = normalize(toys)\n",
    "toys_normalized"
   ]
  },
  {
   "cell_type": "code",
   "execution_count": 78,
   "metadata": {},
   "outputs": [],
   "source": [
    "def get_cosinus_similarity(df):\n",
    "    match = {\"toy\": []}\n",
    "    for toy in toys_normalized:\n",
    "        match[\"toy\"].append(toy)\n",
    "        vector_toy = list(toys_normalized[toy])\n",
    "        match[toy] = [\n",
    "            round(get_cosinus(vector_toy, list(toys_normalized[other])), 3)\n",
    "            for other in toys_normalized\n",
    "        ]\n",
    "    df = pd.DataFrame(match)\n",
    "    df = df.set_index(\"toy\")\n",
    "    return df\n"
   ]
  },
  {
   "cell_type": "code",
   "execution_count": 85,
   "metadata": {},
   "outputs": [
    {
     "data": {
      "text/plain": [
       "Klötze    -0.252\n",
       "Barbie     1.000\n",
       "Comic      0.165\n",
       "Frisbee   -0.837\n",
       "Münze      0.316\n",
       "Name: Barbie, dtype: float64"
      ]
     },
     "execution_count": 85,
     "metadata": {},
     "output_type": "execute_result"
    }
   ],
   "source": [
    "similarity=get_cosinus_similarity(toys_normalized)\n",
    "similarity.loc[\"Barbie\"]"
   ]
  },
  {
   "cell_type": "markdown",
   "metadata": {},
   "source": [
    "<img src=\"img/pearson3.png\" alt=\"Drawing\" style=\"width: 600px;\"/>"
   ]
  },
  {
   "cell_type": "code",
   "execution_count": 93,
   "metadata": {},
   "outputs": [],
   "source": [
    "def prediction(person_vector, similarity_vector):     \n",
    "    top_to_sum=[] \n",
    "    bot_to_sum=[]\n",
    "    for p, s in zip(person_vector, similarity_vector):\n",
    "          if p==p and s==s:\n",
    "              top_to_sum.append(p*s)\n",
    "              bot_to_sum.append(abs(s))\n",
    "    top=sum(top_to_sum)\n",
    "    bot=sum(bot_to_sum)\n",
    "    return top/bot"
   ]
  },
  {
   "cell_type": "code",
   "execution_count": 94,
   "metadata": {},
   "outputs": [],
   "source": [
    "prediction(toys.loc[\"Anna\"],similarity.loc[\"Barbie\"])"
   ]
  },
  {
   "cell_type": "code",
   "execution_count": 89,
   "metadata": {},
   "outputs": [
    {
     "data": {
      "text/plain": [
       "Klötze     4.0\n",
       "Barbie     NaN\n",
       "Comic      NaN\n",
       "Frisbee    3.0\n",
       "Münze      0.0\n",
       "Name: Anna, dtype: float64"
      ]
     },
     "execution_count": 89,
     "metadata": {},
     "output_type": "execute_result"
    }
   ],
   "source": [
    "toys.loc[\"Anna\"] "
   ]
  }
 ],
 "metadata": {
  "interpreter": {
   "hash": "ecf5722fdaf1897a315d257d89d94520bfcaa453217d5becf09b39e73618b0de"
  },
  "kernelspec": {
   "display_name": "Python 3.9.7 ('base')",
   "language": "python",
   "name": "python3"
  },
  "language_info": {
   "codemirror_mode": {
    "name": "ipython",
    "version": 3
   },
   "file_extension": ".py",
   "mimetype": "text/x-python",
   "name": "python",
   "nbconvert_exporter": "python",
   "pygments_lexer": "ipython3",
   "version": "3.9.7"
  },
  "orig_nbformat": 4
 },
 "nbformat": 4,
 "nbformat_minor": 2
}
