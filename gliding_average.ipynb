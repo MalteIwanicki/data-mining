{
 "cells": [
  {
   "cell_type": "code",
   "execution_count": 3,
   "metadata": {},
   "outputs": [],
   "source": [
    "from statistics import mean, median\n",
    "\n",
    "values = [\n",
    "    1.5,\n",
    "    1.6,\n",
    "    1.7,\n",
    "    2.0,\n",
    "    2.0,\n",
    "    2.0,\n",
    "    2.3,\n",
    "    2.5,\n",
    "    2.9,\n",
    "    2.9,\n",
    "    3.2,\n",
    "    3.3,\n",
    "    4.5,\n",
    "    6.0,\n",
    "    10.2,\n",
    "    28.5,\n",
    "]\n",
    "expected_buckets = [\n",
    "    [1.7, 1.7, 1.7, 1.7],\n",
    "    [2.2, 2.2, 2.2, 2.2],\n",
    "    [3.075, 3.075, 3.075, 3.075],\n",
    "    [12, 3, 12, 3, 12, 3, 12, 3],\n",
    "]\n"
   ]
  },
  {
   "cell_type": "code",
   "execution_count": 4,
   "metadata": {},
   "outputs": [],
   "source": [
    "def gliding_average(values, bucketsize, modus=\"average\"):\n",
    "    buckets = _buckets(values, bucketsize)\n",
    "    if modus == \"average\":\n",
    "        return _averages(buckets)\n",
    "    elif modus == \"median\":\n",
    "        return _median(buckets)\n",
    "    elif modus == \"border\":\n",
    "        return _border(buckets)\n"
   ]
  },
  {
   "cell_type": "code",
   "execution_count": 5,
   "metadata": {},
   "outputs": [],
   "source": [
    "def _buckets(values, bucketsize):\n",
    "    buckets = [[] for _ in range(len(values) // bucketsize)]\n",
    "    for i, bucket in enumerate(buckets):\n",
    "        for value in values[i * len(buckets) : (i + 1) * len(buckets)]:\n",
    "            bucket.append(value)\n",
    "    return buckets\n"
   ]
  },
  {
   "cell_type": "code",
   "execution_count": 6,
   "metadata": {},
   "outputs": [
    {
     "name": "stdout",
     "output_type": "stream",
     "text": [
      "[[1.7, 1.7, 1.7, 1.7], [2.2, 2.2, 2.2, 2.2], [3.075, 3.075, 3.075, 3.075], [12.3, 12.3, 12.3, 12.3]]\n"
     ]
    }
   ],
   "source": [
    "def _averages(buckets):\n",
    "    averages = []\n",
    "    for bucket in buckets:\n",
    "        averages.append([])\n",
    "        for v in bucket:\n",
    "            averages[-1].append(mean(bucket))\n",
    "    return averages\n",
    "\n",
    "\n",
    "print(gliding_average(values, 4, \"average\"))\n"
   ]
  },
  {
   "cell_type": "code",
   "execution_count": 7,
   "metadata": {},
   "outputs": [
    {
     "name": "stdout",
     "output_type": "stream",
     "text": [
      "[[1.65, 1.65, 1.65, 1.65], [2.15, 2.15, 2.15, 2.15], [3.05, 3.05, 3.05, 3.05], [8.1, 8.1, 8.1, 8.1]]\n"
     ]
    }
   ],
   "source": [
    "def _median(buckets):\n",
    "    medians = []\n",
    "    for bucket in buckets:\n",
    "        medians.append([])\n",
    "        for v in bucket:\n",
    "            medians[-1].append(median(bucket))\n",
    "    return medians\n",
    "\n",
    "\n",
    "print(gliding_average(values, 4, \"median\"))\n"
   ]
  },
  {
   "cell_type": "code",
   "execution_count": 8,
   "metadata": {},
   "outputs": [
    {
     "name": "stdout",
     "output_type": "stream",
     "text": [
      "[[1.5, 1.5, 1.5, 2.0], [2.0, 2.0, 2.5, 2.5], [2.9, 2.9, 3.3, 3.3], [4.5, 4.5, 4.5, 28.5]]\n"
     ]
    }
   ],
   "source": [
    "def _border(buckets):\n",
    "    border = []\n",
    "    for bucket in buckets:\n",
    "        border.append([])\n",
    "        maximum = max(bucket)\n",
    "        minimum = min(bucket)\n",
    "        for v in bucket:\n",
    "            border[-1].append(\n",
    "                minimum if abs(minimum - v) < abs(maximum - v) else maximum\n",
    "            )\n",
    "    return border\n",
    "\n",
    "\n",
    "print(gliding_average(values, 4, \"border\"))\n"
   ]
  },
  {
   "cell_type": "code",
   "execution_count": 9,
   "metadata": {},
   "outputs": [],
   "source": [
    "values = [\n",
    "    [1959, 1964, 1969, 1974, 1979, 1984, 1994, 1999, 2004, 2009, 2014, 2019],\n",
    "    [16.1, 16.9, 14.8, 14.1, 16.5, 13.7, 15.3, 15.9, 15.2, 15.3, 14.8, 16.1, 19.8],\n",
    "]\n"
   ]
  },
  {
   "cell_type": "markdown",
   "metadata": {},
   "source": [
    "# Glätten mit gleitendem Mittelwert"
   ]
  },
  {
   "cell_type": "code",
   "execution_count": 10,
   "metadata": {},
   "outputs": [
    {
     "name": "stdout",
     "output_type": "stream",
     "text": [
      "[15.93, 15.27, 15.13, 14.77, 15.17, 14.97, 15.47, 15.47, 15.1, 15.4, 16.9]\n"
     ]
    }
   ],
   "source": [
    "def smoothing(values, size):\n",
    "    stack = [values[v] for v in range(size)]\n",
    "    buckets = [stack]\n",
    "    for v in values[size:]:\n",
    "        stack = [v for v in stack[1:]]\n",
    "        stack.append(v)\n",
    "        buckets.append(stack)\n",
    "    averages = _averages(buckets)\n",
    "    return [a[0] for a in averages]\n",
    "\n",
    "\n",
    "smoothed = smoothing(values[1], 3)\n",
    "print([round(v, 2) for v in smoothed])\n"
   ]
  },
  {
   "cell_type": "code",
   "execution_count": 11,
   "metadata": {},
   "outputs": [
    {
     "name": "stdout",
     "output_type": "stream",
     "text": [
      "[16.1, 16.3, 15.93, 15.47, 15.73, 15.22, 15.24, 15.4, 15.35, 15.34, 15.21, 15.43, 16.52]\n"
     ]
    }
   ],
   "source": [
    "def simple_exponential_smoothing(values, alpha):\n",
    "    y = [values[0]]\n",
    "    for x in values[1:]:\n",
    "        y.append(alpha * x + (1 - alpha) * y[-1])\n",
    "\n",
    "    return y\n",
    "\n",
    "\n",
    "print([round(v, 2) for v in simple_exponential_smoothing(values[1], 0.25)])\n"
   ]
  }
 ],
 "metadata": {
  "interpreter": {
   "hash": "ecf5722fdaf1897a315d257d89d94520bfcaa453217d5becf09b39e73618b0de"
  },
  "kernelspec": {
   "display_name": "Python 3.9.7 64-bit ('base': conda)",
   "language": "python",
   "name": "python3"
  },
  "language_info": {
   "codemirror_mode": {
    "name": "ipython",
    "version": 3
   },
   "file_extension": ".py",
   "mimetype": "text/x-python",
   "name": "python",
   "nbconvert_exporter": "python",
   "pygments_lexer": "ipython3",
   "version": "3.9.7"
  },
  "orig_nbformat": 4
 },
 "nbformat": 4,
 "nbformat_minor": 2
}
