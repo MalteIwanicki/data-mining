{
 "cells": [
  {
   "cell_type": "code",
   "execution_count": 15,
   "metadata": {},
   "outputs": [],
   "source": [
    "from IPython.display import display, Markdown, Latex\n"
   ]
  },
  {
   "cell_type": "code",
   "execution_count": 16,
   "metadata": {},
   "outputs": [],
   "source": [
    "data = [\n",
    "    ['E', 'M', 'B'],\n",
    "    ['E', 'M'],\n",
    "    ['B', 'W', 'Z'],\n",
    "    ['W', 'Z'],\n",
    "    ['E', 'B', 'W'],\n",
    "    ['W', 'Z'],\n",
    "    ['M', 'W', 'Z']\n",
    "    ]"
   ]
  },
  {
   "cell_type": "markdown",
   "metadata": {},
   "source": [
    "# Apriori"
   ]
  },
  {
   "cell_type": "code",
   "execution_count": 17,
   "metadata": {},
   "outputs": [
    {
     "name": "stdout",
     "output_type": "stream",
     "text": [
      "C_1:{('E',): 3, ('M',): 3, ('B',): 3, ('W',): 5, ('Z',): 4}\n",
      "L_1: {('E',): 3, ('M',): 3, ('B',): 3, ('W',): 5, ('Z',): 4}\n",
      "C_2:{('E', 'M'): 2, ('E', 'B'): 2, ('E', 'W'): 1, ('M', 'B'): 1, ('M', 'W'): 1, ('M', 'Z'): 1, ('B', 'W'): 2, ('B', 'Z'): 1, ('W', 'Z'): 4}\n",
      "L_2: {('E', 'M'): 2, ('E', 'B'): 2, ('B', 'W'): 2, ('W', 'Z'): 4}\n",
      "C_3:{('E', 'M', 'B'): 1, ('E', 'B', 'W'): 1, ('M', 'W', 'Z'): 1, ('B', 'W', 'Z'): 1}\n"
     ]
    }
   ],
   "source": [
    "#TODO nicht korrekt\n",
    "import itertools\n",
    "class Apriori:\n",
    "    def __init__(self, data, threshold=1):\n",
    "        self._data=data\n",
    "        self._threshold=threshold\n",
    "        self._keys = self._get_keys()\n",
    "                \n",
    "    def _get_keys(self):\n",
    "        keys=[]\n",
    "        for d in self._data:\n",
    "            for j in d:\n",
    "                if not (j in keys):\n",
    "                    keys.append(j)\n",
    "        return keys\n",
    "    \n",
    "    def thresholded(self,all_sets):\n",
    "    \n",
    "        thresholded_sets={}\n",
    "        for key, value in all_sets.items():\n",
    "            if value >= self._threshold:\n",
    "                thresholded_sets[key]=value\n",
    "        return thresholded_sets       \n",
    "    \n",
    "    def __call__(self):\n",
    "        n=1\n",
    "        while True:\n",
    "            l_n =self._get_l_n(n)\n",
    "            if not l_n: break\n",
    "            print(f\"L_{n}: {l_n}\")\n",
    "            n+=1\n",
    "    \n",
    "    \n",
    "    def _get_l_n(self, gen):\n",
    "        all_sets={}\n",
    "        for values in itertools.combinations(list(self._keys), gen):\n",
    "            for d in self._data: \n",
    "                if all(v in d for v in values):\n",
    "                    all_sets[values]=all_sets.get(values,0)+1\n",
    "        print(f\"C_{gen}:{all_sets}\")\n",
    "        return self.thresholded(all_sets)     \n",
    "    \n",
    "            \n",
    "        \n",
    "apriori=Apriori(data,2)\n",
    "apriori()"
   ]
  },
  {
   "cell_type": "markdown",
   "metadata": {},
   "source": [
    "# Lift"
   ]
  },
  {
   "cell_type": "code",
   "execution_count": 18,
   "metadata": {},
   "outputs": [],
   "source": [
    "transactions=7\n",
    "data={\n",
    "    \"b\":3,\n",
    "    \"e\":3,\n",
    "    \"m\":3,\n",
    "    \"w\":5,\n",
    "    \"z\":4,\n",
    "    \"be\":2,\n",
    "    \"bw\":2,\n",
    "    \"em\":2,\n",
    "    \"wz\":4\n",
    "    }\n"
   ]
  },
  {
   "cell_type": "code",
   "execution_count": 59,
   "metadata": {},
   "outputs": [],
   "source": [
    "def calc_lift(P_a, P_b, P_ab):\n",
    "    lift = P_ab / (P_a * P_b)\n",
    "    output = f\"lift(A=>B)=({round(P_ab,3)} / ({round(P_a,3)} * {round(P_b,3)}) = {round(lift,3)}\"\n",
    "    if lift < 1:\n",
    "        result = \"negativ korreliert\"\n",
    "    elif lift == 1:\n",
    "        result = \"unkorreliert\"\n",
    "    else:  # lift > 1\n",
    "        result = \"positiv korreliert\"\n",
    "    display(\n",
    "        Markdown(\n",
    "            f\"$$ lift(A\\Rightarrow B)=\"\\\n",
    "            f\"\\\\frac{{{round(P_ab,3)}}}{{{round(P_a,3)}\\\\times{round(P_b,3)}}}= \"\\\n",
    "            f\"{round(lift,3)}\\\\rightarrow \\\\text{{{result}}}$$\"\n",
    "        )\n",
    "    )\n",
    "\n",
    "\n",
    "class P:\n",
    "    def __init__(self, transactions):\n",
    "        self.transactions = transactions\n",
    "\n",
    "    def __call__(self, A):\n",
    "        return A / transactions\n",
    "\n",
    "\n",
    "def lift(transactions, A, B, AB):\n",
    "    p = P(transactions)\n",
    "    return calc_lift(p(A), p(B), p(AB))\n"
   ]
  },
  {
   "cell_type": "code",
   "execution_count": 60,
   "metadata": {},
   "outputs": [
    {
     "data": {
      "text/markdown": [
       "$$ lift(A\\Rightarrow B)=\\frac{0.571}{0.714\\times0.571}= 1.4\\rightarrow \\text{positiv korreliert}$$"
      ],
      "text/plain": [
       "<IPython.core.display.Markdown object>"
      ]
     },
     "metadata": {},
     "output_type": "display_data"
    }
   ],
   "source": [
    "d=data\n",
    "t=transactions\n",
    "\n",
    "lift(t,d[\"w\"],d[\"z\"],d[\"wz\"])"
   ]
  },
  {
   "cell_type": "markdown",
   "metadata": {},
   "source": [
    "# Null-invariante"
   ]
  },
  {
   "cell_type": "code",
   "execution_count": 21,
   "metadata": {},
   "outputs": [],
   "source": [
    "P_milch=1300/3000\n",
    "P_eier=1200/3000\n",
    "P_miei=700/3000"
   ]
  },
  {
   "cell_type": "markdown",
   "metadata": {},
   "source": [
    "## All-Confidence-Maß\n",
    "![](images/2022-03-17-07-28-11.png)"
   ]
  },
  {
   "cell_type": "code",
   "execution_count": 70,
   "metadata": {},
   "outputs": [
    {
     "data": {
      "text/markdown": [
       "$$ allconf(A,B)=\\frac{0.233}{max(0.433,0.4)}= 0.538$$"
      ],
      "text/plain": [
       "<IPython.core.display.Markdown object>"
      ]
     },
     "metadata": {},
     "output_type": "display_data"
    },
    {
     "data": {
      "text/plain": [
       "0.538"
      ]
     },
     "execution_count": 70,
     "metadata": {},
     "output_type": "execute_result"
    }
   ],
   "source": [
    "def all_conf(P_a,P_b,P_ab):\n",
    "    result= P_ab/max(P_a,P_b)\n",
    "    display(\n",
    "        Markdown(\n",
    "            f\"$$ allconf(A,B)=\"\\\n",
    "            f\"\\\\frac{{{round(P_ab,3)}}}{{max({round(P_a,3)},{round(P_b,3)})}}= \"\\\n",
    "            f\"{round(result,3)}$$\"\n",
    "        )\n",
    "    )\n",
    "    return result\n",
    "\n",
    "round(all_conf(P_milch,P_eier,P_miei),3)"
   ]
  },
  {
   "cell_type": "markdown",
   "metadata": {},
   "source": [
    "## Max-Confidence-Maß\n",
    "![](images/2022-03-17-07-28-48.png)"
   ]
  },
  {
   "cell_type": "code",
   "execution_count": 71,
   "metadata": {},
   "outputs": [
    {
     "data": {
      "text/markdown": [
       "$$ maxconf(A,B)=\\frac{0.233}{min(0.433,0.4)}= 0.583$$"
      ],
      "text/plain": [
       "<IPython.core.display.Markdown object>"
      ]
     },
     "metadata": {},
     "output_type": "display_data"
    },
    {
     "data": {
      "text/plain": [
       "0.583"
      ]
     },
     "execution_count": 71,
     "metadata": {},
     "output_type": "execute_result"
    }
   ],
   "source": [
    "def max_conf(P_a,P_b,P_ab):\n",
    "    result = P_ab/min(P_a,P_b)\n",
    "    \n",
    "    display(\n",
    "        Markdown(\n",
    "            f\"$$ maxconf(A,B)=\"\\\n",
    "            f\"\\\\frac{{{round(P_ab,3)}}}{{min({round(P_a,3)},{round(P_b,3)})}}= \"\\\n",
    "            f\"{round(result,3)}$$\"\n",
    "        )\n",
    "    )\n",
    "    return result\n",
    "\n",
    "round(max_conf(P_milch,P_eier,P_miei),3)"
   ]
  },
  {
   "cell_type": "markdown",
   "metadata": {},
   "source": [
    "## Kulczynski-Maß\n",
    "![](images/2022-03-17-07-29-13.png)"
   ]
  },
  {
   "cell_type": "code",
   "execution_count": 72,
   "metadata": {},
   "outputs": [
    {
     "data": {
      "text/markdown": [
       "$$ Kulc(A,B)=\\frac{1}{2}(\\frac{0.233}{0.433}+\\frac{0.233}{0.4})= 0.561$$"
      ],
      "text/plain": [
       "<IPython.core.display.Markdown object>"
      ]
     },
     "metadata": {},
     "output_type": "display_data"
    },
    {
     "data": {
      "text/plain": [
       "0.561"
      ]
     },
     "execution_count": 72,
     "metadata": {},
     "output_type": "execute_result"
    }
   ],
   "source": [
    "def kulc(P_a,P_b,P_ab):\n",
    "    result = (1/2)*(P_ab/P_a + P_ab/P_b)\n",
    "    \n",
    "    display(\n",
    "        Markdown(\n",
    "            f\"$$ Kulc(A,B)=\"\\\n",
    "            f\"\\\\frac{{1}}{{2}}(\\\\frac{{{round(P_ab,3)}}}{{{round(P_a,3)}}}+\\\\frac{{{round(P_ab,3)}}}{{{round(P_b,3)}}})= \"\\\n",
    "            f\"{round(result,3)}$$\"\n",
    "        )\n",
    "    )\n",
    "    return result\n",
    "\n",
    "round(kulc(P_milch,P_eier,P_miei),3)"
   ]
  },
  {
   "cell_type": "markdown",
   "metadata": {},
   "source": [
    "## Cosine Similarity\n",
    "![](images/2022-03-17-07-29-32.png)"
   ]
  },
  {
   "cell_type": "code",
   "execution_count": 75,
   "metadata": {},
   "outputs": [
    {
     "data": {
      "text/markdown": [
       "$$ cosine(A,B)=\\sqrt{\\frac{0.233}{0.433}\\times \\frac{0.233}{0.4}}= 0.56$$"
      ],
      "text/plain": [
       "<IPython.core.display.Markdown object>"
      ]
     },
     "metadata": {},
     "output_type": "display_data"
    },
    {
     "data": {
      "text/plain": [
       "0.56"
      ]
     },
     "execution_count": 75,
     "metadata": {},
     "output_type": "execute_result"
    }
   ],
   "source": [
    "from math import sqrt\n",
    "\n",
    "def cosine(P_a,P_b,P_ab):\n",
    "    result =sqrt(P_ab/P_a * P_ab/P_b)\n",
    "    \n",
    "    display(\n",
    "        Markdown(\n",
    "            f\"$$ cosine(A,B)=\"\\\n",
    "            f\"\\sqrt{{\\\\frac{{{round(P_ab,3)}}}{{{round(P_a,3)}}}\\\\times \\\\frac{{{round(P_ab,3)}}}{{{round(P_b,3)}}}}}= \"\\\n",
    "            f\"{round(result,3)}$$\"\n",
    "        )\n",
    "    )\n",
    "    return result\n",
    "\n",
    "round(cosine(P_milch,P_eier,P_miei),3)"
   ]
  },
  {
   "cell_type": "markdown",
   "metadata": {},
   "source": [
    "## jaccard coefficient\n",
    "![](images/2022-03-17-07-29-54.png)"
   ]
  },
  {
   "cell_type": "code",
   "execution_count": 78,
   "metadata": {},
   "outputs": [
    {
     "data": {
      "text/markdown": [
       "$$ Jacc(A,B)=\\frac{ 0.233  }{ 0.433 + 0.4 - 0.233 }= 0.389$$"
      ],
      "text/plain": [
       "<IPython.core.display.Markdown object>"
      ]
     },
     "metadata": {},
     "output_type": "display_data"
    },
    {
     "data": {
      "text/plain": [
       "0.389"
      ]
     },
     "execution_count": 78,
     "metadata": {},
     "output_type": "execute_result"
    }
   ],
   "source": [
    "def jacc(P_a,P_b,P_ab):\n",
    "    result = P_ab/(P_a + P_b - P_ab)\n",
    "    display(\n",
    "        Markdown(\n",
    "            f\"$$ Jacc(A,B)=\"\\\n",
    "            f\"\\\\frac{{ {round(P_ab,3)}  }}{{ {round(P_a,3)} + {round(P_b,3)} - {round(P_ab,3)} }}= \"\\\n",
    "            f\"{round(result,3)}$$\"\n",
    "        )\n",
    "    )\n",
    "    return result\n",
    "\n",
    "round(jacc(P_milch,P_eier,P_miei),3)"
   ]
  },
  {
   "cell_type": "markdown",
   "metadata": {},
   "source": [
    "## All together"
   ]
  },
  {
   "cell_type": "code",
   "execution_count": 82,
   "metadata": {},
   "outputs": [
    {
     "data": {
      "text/plain": [
       "0.7142857142857143"
      ]
     },
     "metadata": {},
     "output_type": "display_data"
    },
    {
     "data": {
      "text/plain": [
       "0.5714285714285714"
      ]
     },
     "metadata": {},
     "output_type": "display_data"
    },
    {
     "data": {
      "text/plain": [
       "0.5714285714285714"
      ]
     },
     "metadata": {},
     "output_type": "display_data"
    },
    {
     "data": {
      "text/markdown": [
       "$$ allconf(A,B)=\\frac{0.233}{max(0.433,0.4)}= 0.538$$"
      ],
      "text/plain": [
       "<IPython.core.display.Markdown object>"
      ]
     },
     "metadata": {},
     "output_type": "display_data"
    },
    {
     "data": {
      "text/markdown": [
       "$$ maxconf(A,B)=\\frac{0.233}{min(0.433,0.4)}= 0.583$$"
      ],
      "text/plain": [
       "<IPython.core.display.Markdown object>"
      ]
     },
     "metadata": {},
     "output_type": "display_data"
    },
    {
     "data": {
      "text/markdown": [
       "$$ Kulc(A,B)=\\frac{1}{2}(\\frac{0.233}{0.433}+\\frac{0.233}{0.4})= 0.561$$"
      ],
      "text/plain": [
       "<IPython.core.display.Markdown object>"
      ]
     },
     "metadata": {},
     "output_type": "display_data"
    },
    {
     "data": {
      "text/markdown": [
       "$$ cosine(A,B)=\\sqrt{\\frac{0.233}{0.433}\\times \\frac{0.233}{0.4}}= 0.56$$"
      ],
      "text/plain": [
       "<IPython.core.display.Markdown object>"
      ]
     },
     "metadata": {},
     "output_type": "display_data"
    },
    {
     "data": {
      "text/markdown": [
       "$$ Jacc(A,B)=\\frac{ 0.233  }{ 0.433 + 0.4 - 0.233 }= 0.389$$"
      ],
      "text/plain": [
       "<IPython.core.display.Markdown object>"
      ]
     },
     "metadata": {},
     "output_type": "display_data"
    }
   ],
   "source": [
    "class P:\n",
    "    def __init__(self, transactions):\n",
    "        self.transactions=transactions\n",
    "    def __call__(self,A):\n",
    "        return A/transactions\n",
    "p=P(transactions)\n",
    "P_A=p(d[\"w\"])\n",
    "P_B=p(d[\"z\"])\n",
    "P_AB=p(d[\"wz\"])\n",
    "display(P_A)\n",
    "display(P_B)\n",
    "display(P_AB)\n",
    "\n",
    "\n",
    "functions=[all_conf,max_conf,kulc,cosine,jacc]\n",
    "for func in functions:\n",
    "    func(P_milch,P_eier,P_miei)"
   ]
  },
  {
   "cell_type": "code",
   "execution_count": null,
   "metadata": {},
   "outputs": [],
   "source": []
  }
 ],
 "metadata": {
  "interpreter": {
   "hash": "ecf5722fdaf1897a315d257d89d94520bfcaa453217d5becf09b39e73618b0de"
  },
  "kernelspec": {
   "display_name": "Python 3.9.7 64-bit ('base': conda)",
   "language": "python",
   "name": "python3"
  },
  "language_info": {
   "codemirror_mode": {
    "name": "ipython",
    "version": 3
   },
   "file_extension": ".py",
   "mimetype": "text/x-python",
   "name": "python",
   "nbconvert_exporter": "python",
   "pygments_lexer": "ipython3",
   "version": "3.9.7"
  },
  "orig_nbformat": 4
 },
 "nbformat": 4,
 "nbformat_minor": 2
}
