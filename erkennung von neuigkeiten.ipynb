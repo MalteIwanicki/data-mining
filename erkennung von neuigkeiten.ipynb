{
 "cells": [
  {
   "cell_type": "code",
   "execution_count": null,
   "metadata": {},
   "outputs": [],
   "source": [
    "d2 = \"d2\"\n",
    "d1 = \"d1\"\n",
    "n = \"n\"\n",
    "w = \"w\"\n",
    "l = \"l\"\n",
    "a = \"a\"\n",
    "b = \"b\"\n",
    "c = \"c\"\n",
    "d = \"d\"\n",
    "e = \"e\"\n",
    "f = \"f\"\n",
    "g = \"g\"\n",
    "h = \"h\"\n",
    "clusters = {\n",
    "    d2: [\n",
    "        (\n",
    "            (a, b, 1.3),\n",
    "            (a, c, 2.5),\n",
    "            (a, d, 0.6),\n",
    "            (b, c, 1.25),\n",
    "            (b, e, 1.7),\n",
    "            (c, d, 1.45),\n",
    "        ),\n",
    "        ((f, g, 1.9), (f, h, 1.7), (g, h, 2.2)),\n",
    "    ],\n",
    "    d1: [\n",
    "        ((a, 3.1), (b, 1.8), (c, 1.2), (d, 2), (e, 1.5)),\n",
    "        ((f, 0.8), (g, 2), (h, 2.5)),\n",
    "    ],\n",
    "    n: [5, 3],\n",
    "    w: [9.6, 5.4],\n",
    "    l: [7, 6],\n",
    "}\n",
    "\n",
    "k = 2  # zeit\n",
    "lam = 0.25\n",
    "\n",
    "# TODO\n"
   ]
  }
 ],
 "metadata": {
  "language_info": {
   "name": "python"
  },
  "orig_nbformat": 4
 },
 "nbformat": 4,
 "nbformat_minor": 2
}
