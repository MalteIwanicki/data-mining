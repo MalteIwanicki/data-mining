{
 "cells": [
  {
   "cell_type": "code",
   "execution_count": null,
   "metadata": {},
   "outputs": [],
   "source": [
    "data = [1533.51, 1535.08, 1552.11, 1564.3, 1563.88, 1596.03, 1565.68, 1557.87]\n",
    "x_t = (\n",
    "    lambda t_minus3, t_minus2, t_minus1: 0.75 * t_minus1\n",
    "    + 0.2 * t_minus2\n",
    "    + 0.05 * t_minus3\n",
    ")\n"
   ]
  }
 ],
 "metadata": {
  "language_info": {
   "name": "python"
  },
  "orig_nbformat": 4
 },
 "nbformat": 4,
 "nbformat_minor": 2
}
