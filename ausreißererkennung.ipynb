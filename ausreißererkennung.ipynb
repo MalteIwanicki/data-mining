{
 "cells": [
  {
   "cell_type": "code",
   "execution_count": 115,
   "metadata": {},
   "outputs": [],
   "source": [
    "import pandas as pd\n",
    "import matplotlib.pyplot as plt\n",
    "\n",
    "values = [1533.51, 1535.08, 1552.11, 1564.3, 1563.88, 1596.03, 1565.68, 1557.87]\n",
    "\n",
    "e_t = [1.09, 2.74, -2.36, 0.77, -2.05, 1.83, 3.18, -2.61]\n",
    "\n",
    "\n",
    "\n",
    "x_t = lambda t_min3, t_min2, t_min1, e_t: (\n",
    "    0.75 * t_min1 + 0.2 * t_min2 + 0.05 * t_min3 + e_t\n",
    ")\n",
    "\n",
    "extra=[1540.11, 1510.28, 1527.67]\n",
    "\n",
    "all = extra + values\n",
    "offset = 3\n",
    "\n",
    "ID = \"id\"\n",
    "PREDICTION = \"prediction\"\n",
    "TRUTH = \"truth\"\n",
    "DIFFERENCE = \"difference\""
   ]
  },
  {
   "cell_type": "markdown",
   "metadata": {},
   "source": [
    "# Vorhersage"
   ]
  },
  {
   "cell_type": "code",
   "execution_count": 116,
   "metadata": {},
   "outputs": [],
   "source": [
    "def get_prediction(all_data, offset, rauschen):\n",
    "    data = {ID: [], PREDICTION: [], TRUTH: [], DIFFERENCE: []}\n",
    "    for i, val in enumerate(e_t):\n",
    "        t = i + offset\n",
    "        w_t = x_t(all[t-3], all[t-2], all[t-1], rauschen[i])\n",
    "        w_t = round(w_t, 4)\n",
    "        diff = round(w_t- all[t], 4)\n",
    "        \n",
    "        data[ID].append(i)\n",
    "        data[PREDICTION].append(w_t)\n",
    "        data[TRUTH].append(all[t])\n",
    "        data[DIFFERENCE].append(diff)\n",
    "    return pd.DataFrame(data)\n"
   ]
  },
  {
   "cell_type": "code",
   "execution_count": 117,
   "metadata": {},
   "outputs": [
    {
     "data": {
      "text/html": [
       "<div>\n",
       "<style scoped>\n",
       "    .dataframe tbody tr th:only-of-type {\n",
       "        vertical-align: middle;\n",
       "    }\n",
       "\n",
       "    .dataframe tbody tr th {\n",
       "        vertical-align: top;\n",
       "    }\n",
       "\n",
       "    .dataframe thead th {\n",
       "        text-align: right;\n",
       "    }\n",
       "</style>\n",
       "<table border=\"1\" class=\"dataframe\">\n",
       "  <thead>\n",
       "    <tr style=\"text-align: right;\">\n",
       "      <th></th>\n",
       "      <th>id</th>\n",
       "      <th>prediction</th>\n",
       "      <th>truth</th>\n",
       "      <th>difference</th>\n",
       "    </tr>\n",
       "  </thead>\n",
       "  <tbody>\n",
       "    <tr>\n",
       "      <th>0</th>\n",
       "      <td>0</td>\n",
       "      <td>1525.9040</td>\n",
       "      <td>1533.51</td>\n",
       "      <td>-7.6060</td>\n",
       "    </tr>\n",
       "    <tr>\n",
       "      <th>1</th>\n",
       "      <td>1</td>\n",
       "      <td>1533.9205</td>\n",
       "      <td>1535.08</td>\n",
       "      <td>-1.1595</td>\n",
       "    </tr>\n",
       "    <tr>\n",
       "      <th>2</th>\n",
       "      <td>2</td>\n",
       "      <td>1532.0355</td>\n",
       "      <td>1552.11</td>\n",
       "      <td>-20.0745</td>\n",
       "    </tr>\n",
       "    <tr>\n",
       "      <th>3</th>\n",
       "      <td>3</td>\n",
       "      <td>1548.5440</td>\n",
       "      <td>1564.30</td>\n",
       "      <td>-15.7560</td>\n",
       "    </tr>\n",
       "    <tr>\n",
       "      <th>4</th>\n",
       "      <td>4</td>\n",
       "      <td>1558.3510</td>\n",
       "      <td>1563.88</td>\n",
       "      <td>-5.5290</td>\n",
       "    </tr>\n",
       "    <tr>\n",
       "      <th>5</th>\n",
       "      <td>5</td>\n",
       "      <td>1565.2055</td>\n",
       "      <td>1596.03</td>\n",
       "      <td>-30.8245</td>\n",
       "    </tr>\n",
       "    <tr>\n",
       "      <th>6</th>\n",
       "      <td>6</td>\n",
       "      <td>1585.4035</td>\n",
       "      <td>1557.87</td>\n",
       "      <td>27.5335</td>\n",
       "    </tr>\n",
       "  </tbody>\n",
       "</table>\n",
       "</div>"
      ],
      "text/plain": [
       "   id  prediction    truth  difference\n",
       "0   0   1525.9040  1533.51     -7.6060\n",
       "1   1   1533.9205  1535.08     -1.1595\n",
       "2   2   1532.0355  1552.11    -20.0745\n",
       "3   3   1548.5440  1564.30    -15.7560\n",
       "4   4   1558.3510  1563.88     -5.5290\n",
       "5   5   1565.2055  1596.03    -30.8245\n",
       "6   6   1585.4035  1557.87     27.5335"
      ]
     },
     "execution_count": 117,
     "metadata": {},
     "output_type": "execute_result"
    }
   ],
   "source": [
    "df = get_prediction(all,offset,e_t)\n",
    "df"
   ]
  },
  {
   "cell_type": "markdown",
   "metadata": {},
   "source": [
    "# Abweichungen"
   ]
  },
  {
   "cell_type": "code",
   "execution_count": 118,
   "metadata": {},
   "outputs": [
    {
     "name": "stdout",
     "output_type": "stream",
     "text": [
      "mean:  -7.6309 \n",
      "standard deviation:  18.4465\n"
     ]
    }
   ],
   "source": [
    "mean_difference = round(df[DIFFERENCE].mean(),4)\n",
    "standard_deviation= round(df[DIFFERENCE].std(),4)\n",
    "print(\"mean: \",mean_difference, \"\\nstandard deviation: \", standard_deviation)"
   ]
  },
  {
   "cell_type": "markdown",
   "metadata": {},
   "source": [
    "# Normalisierung der Abweichung"
   ]
  },
  {
   "cell_type": "code",
   "execution_count": 119,
   "metadata": {},
   "outputs": [],
   "source": [
    "NORMALIZED=\"normalized\"\n",
    "def normalisiere(to_normalize, mean, standard_deviation):\n",
    "    return (to_normalize-mean)/standard_deviation"
   ]
  },
  {
   "cell_type": "code",
   "execution_count": 120,
   "metadata": {},
   "outputs": [
    {
     "data": {
      "text/html": [
       "<div>\n",
       "<style scoped>\n",
       "    .dataframe tbody tr th:only-of-type {\n",
       "        vertical-align: middle;\n",
       "    }\n",
       "\n",
       "    .dataframe tbody tr th {\n",
       "        vertical-align: top;\n",
       "    }\n",
       "\n",
       "    .dataframe thead th {\n",
       "        text-align: right;\n",
       "    }\n",
       "</style>\n",
       "<table border=\"1\" class=\"dataframe\">\n",
       "  <thead>\n",
       "    <tr style=\"text-align: right;\">\n",
       "      <th></th>\n",
       "      <th>id</th>\n",
       "      <th>prediction</th>\n",
       "      <th>truth</th>\n",
       "      <th>difference</th>\n",
       "      <th>normalized</th>\n",
       "    </tr>\n",
       "  </thead>\n",
       "  <tbody>\n",
       "    <tr>\n",
       "      <th>0</th>\n",
       "      <td>0</td>\n",
       "      <td>1525.9040</td>\n",
       "      <td>1533.51</td>\n",
       "      <td>-7.6060</td>\n",
       "      <td>0.001350</td>\n",
       "    </tr>\n",
       "    <tr>\n",
       "      <th>1</th>\n",
       "      <td>1</td>\n",
       "      <td>1533.9205</td>\n",
       "      <td>1535.08</td>\n",
       "      <td>-1.1595</td>\n",
       "      <td>0.350820</td>\n",
       "    </tr>\n",
       "    <tr>\n",
       "      <th>2</th>\n",
       "      <td>2</td>\n",
       "      <td>1532.0355</td>\n",
       "      <td>1552.11</td>\n",
       "      <td>-20.0745</td>\n",
       "      <td>-0.674578</td>\n",
       "    </tr>\n",
       "    <tr>\n",
       "      <th>3</th>\n",
       "      <td>3</td>\n",
       "      <td>1548.5440</td>\n",
       "      <td>1564.30</td>\n",
       "      <td>-15.7560</td>\n",
       "      <td>-0.440468</td>\n",
       "    </tr>\n",
       "    <tr>\n",
       "      <th>4</th>\n",
       "      <td>4</td>\n",
       "      <td>1558.3510</td>\n",
       "      <td>1563.88</td>\n",
       "      <td>-5.5290</td>\n",
       "      <td>0.113946</td>\n",
       "    </tr>\n",
       "    <tr>\n",
       "      <th>5</th>\n",
       "      <td>5</td>\n",
       "      <td>1565.2055</td>\n",
       "      <td>1596.03</td>\n",
       "      <td>-30.8245</td>\n",
       "      <td>-1.257344</td>\n",
       "    </tr>\n",
       "    <tr>\n",
       "      <th>6</th>\n",
       "      <td>6</td>\n",
       "      <td>1585.4035</td>\n",
       "      <td>1557.87</td>\n",
       "      <td>27.5335</td>\n",
       "      <td>1.906291</td>\n",
       "    </tr>\n",
       "  </tbody>\n",
       "</table>\n",
       "</div>"
      ],
      "text/plain": [
       "   id  prediction    truth  difference  normalized\n",
       "0   0   1525.9040  1533.51     -7.6060    0.001350\n",
       "1   1   1533.9205  1535.08     -1.1595    0.350820\n",
       "2   2   1532.0355  1552.11    -20.0745   -0.674578\n",
       "3   3   1548.5440  1564.30    -15.7560   -0.440468\n",
       "4   4   1558.3510  1563.88     -5.5290    0.113946\n",
       "5   5   1565.2055  1596.03    -30.8245   -1.257344\n",
       "6   6   1585.4035  1557.87     27.5335    1.906291"
      ]
     },
     "execution_count": 120,
     "metadata": {},
     "output_type": "execute_result"
    }
   ],
   "source": [
    "normalized=df[DIFFERENCE].apply(normalisiere,args=(mean_difference,standard_deviation))\n",
    "df[NORMALIZED]=normalized\n",
    "df"
   ]
  },
  {
   "cell_type": "code",
   "execution_count": 121,
   "metadata": {},
   "outputs": [
    {
     "data": {
      "image/png": "[encoded data removed]",
      "text/plain": [
       "<Figure size 432x288 with 1 Axes>"
      ]
     },
     "metadata": {
      "needs_background": "light"
     },
     "output_type": "display_data"
    }
   ],
   "source": [
    "plt.clf()\n",
    "plt.plot(df[[NORMALIZED]],label=[NORMALIZED])\n",
    "plt.ylabel('gold value')\n",
    "plt.legend()\n",
    "plt.show()"
   ]
  }
 ],
 "metadata": {
  "interpreter": {
   "hash": "ecf5722fdaf1897a315d257d89d94520bfcaa453217d5becf09b39e73618b0de"
  },
  "kernelspec": {
   "display_name": "Python 3.9.7 64-bit ('base': conda)",
   "language": "python",
   "name": "python3"
  },
  "language_info": {
   "codemirror_mode": {
    "name": "ipython",
    "version": 3
   },
   "file_extension": ".py",
   "mimetype": "text/x-python",
   "name": "python",
   "nbconvert_exporter": "python",
   "pygments_lexer": "ipython3",
   "version": "3.9.7"
  },
  "orig_nbformat": 4
 },
 "nbformat": 4,
 "nbformat_minor": 2
}
