{
 "cells": [
  {
   "cell_type": "markdown",
   "metadata": {},
   "source": [
    "# DBSCAN"
   ]
  },
  {
   "cell_type": "markdown",
   "metadata": {},
   "source": [
    "## Data Einsendeaufgabe"
   ]
  },
  {
   "cell_type": "code",
   "execution_count": null,
   "metadata": {},
   "outputs": [],
   "source": [
    "data = [\n",
    "    [0.0, 2.8, 1.6, 7.2, 6.0, 8.1, 6.8, 3, 6.3, 4.6, 3.8, 7.9, 7.3, 10.1, 7.9], \n",
    "    [0.0, 1.6, 5.0, 5.7, 8.5, 4.5, 1.8, 6.1, 2.7, 3.8, 5.5, 5, 9.9, 7.9], \n",
    "    [0.0, 6.5, 6.4, 8.9, 6.0, 1.5, 6.7, 4.0, 2.8, 7.1, 6.5, 10.6, 8.5], \n",
    "    [0.0, 4.3, 7.1, 0.7, 6.7, 4.7, 2.5, 8.7, 1.1, 0.5, 7.2, 6.0], \n",
    "    [0.0, 3.0, 4.6, 7.4, 0.5, 3.6, 9.2, 5.4, 4.7, 4.2, 2.2], \n",
    "    [0.0, 7.5, 10.1, 2.5, 6.7, 11.7, 8.1, 7.6, 2.5, 1.1], \n",
    "    [0.0, 6.1, 5.1, 2.2, 8.1, 1.1, 0.5, 7.8, 6.5], \n",
    "    [0.0, 7.8, 4.5, 2.1, 7, 6.6, 11.7, 9.6], \n",
    "    [0.0, 4.1, 9.6, 5.9, 5.2, 3.9, 1.8],\n",
    "    [0.0, 6.5, 3.4, 2.7, 7.6, 5.9], \n",
    "    [0.0, 9.1, 8.6, 13.5, 11.3], \n",
    "    [0.0, 0.7, 8.1, 7.1], \n",
    "    [0.0, 7.6, 6.5], \n",
    "    [0.0, 2.2],\n",
    "    [0.0]\n",
    "]\n",
    "for i in range(len(data)):\n",
    "    for j in range(len(data[i])):\n",
    "        if i>=j: continue\n",
    "        data[j].insert(i,data[i][j])\n",
    "\n",
    "for d in data:\n",
    "    print(d)"
   ]
  },
  {
   "cell_type": "code",
   "execution_count": 3,
   "metadata": {},
   "outputs": [],
   "source": [
    "data = [[0.0, 2.8, 1.6, 7.2, 6.0, 8.1, 6.8, 3, 6.3, 4.6, 3.8, 7.9, 7.3, 10.1, 7.9],\n",
    "[2.8, 0.0, 1.6, 5.0, 5.7, 8.5, 4.5, 1.8, 6.1, 2.7, 3.8, 5.5, 5, 9.9, 7.9],\n",
    "[1.6, 1.6, 0.0, 6.5, 6.4, 8.9, 6.0, 1.5, 6.7, 4.0, 2.8, 7.1, 6.5, 10.6, 8.5],\n",
    "[7.2, 5.0, 6.5, 0.0, 4.3, 7.1, 0.7, 6.7, 4.7, 2.5, 8.7, 1.1, 0.5, 7.2, 6.0],\n",
    "[6.0, 5.7, 6.4, 4.3, 0.0, 3.0, 4.6, 7.4, 0.5, 3.6, 9.2, 5.4, 4.7, 4.2, 2.2],\n",
    "[8.1, 8.5, 8.9, 7.1, 3.0, 0.0, 7.5, 10.1, 2.5, 6.7, 11.7, 8.1, 7.6, 2.5, 1.1],\n",
    "[6.8, 4.5, 6.0, 0.7, 4.6, 7.5, 0.0, 6.1, 5.1, 2.2, 8.1, 1.1, 0.5, 7.8, 6.5],\n",
    "[3, 1.8, 1.5, 6.7, 7.4, 10.1, 6.1, 0.0, 7.8, 4.5, 2.1, 7, 6.6, 11.7, 9.6],\n",
    "[6.3, 6.1, 6.7, 4.7, 0.5, 2.5, 5.1, 7.8, 0.0, 4.1, 9.6, 5.9, 5.2, 3.9, 1.8],\n",
    "[4.6, 2.7, 4.0, 2.5, 3.6, 6.7, 2.2, 4.5, 4.1, 0.0, 6.5, 3.4, 2.7, 7.6, 5.9],\n",
    "[3.8, 3.8, 2.8, 8.7, 9.2, 11.7, 8.1, 2.1, 9.6, 6.5, 0.0, 9.1, 8.6, 13.5, 11.3],\n",
    "[7.9, 5.5, 7.1, 1.1, 5.4, 8.1, 1.1, 7, 5.9, 3.4, 9.1, 0.0, 0.7, 8.1, 7.1],\n",
    "[7.3, 5, 6.5, 0.5, 4.7, 7.6, 0.5, 6.6, 5.2, 2.7, 8.6, 0.7, 0.0, 7.6, 6.5],\n",
    "[10.1, 9.9, 10.6, 7.2, 4.2, 2.5, 7.8, 11.7, 3.9, 7.6, 13.5, 8.1, 7.6, 0.0, 2.2],\n",
    "[7.9, 7.9, 8.5, 6.0, 2.2, 1.1, 6.5, 9.6, 1.8, 5.9, 11.3, 7.1, 6.5, 2.2, 0.0]\n",
    "]\n",
    "minPts=3\n",
    "epsilon = 2"
   ]
  },
  {
   "cell_type": "markdown",
   "metadata": {},
   "source": [
    "## Kerndistanz\n",
    "berechnet den kleinsten Radius damit ein punkt mindestens minPts Punkte im Radius hat"
   ]
  },
  {
   "cell_type": "code",
   "execution_count": 4,
   "metadata": {},
   "outputs": [
    {
     "data": {
      "text/plain": [
       "{0: 2.8,\n",
       " 1: 1.8,\n",
       " 2: 1.6,\n",
       " 3: 0.7,\n",
       " 4: 2.2,\n",
       " 5: 2.5,\n",
       " 6: 0.7,\n",
       " 7: 1.8,\n",
       " 8: 1.8,\n",
       " 9: 2.5,\n",
       " 10: 2.8,\n",
       " 11: 1.1,\n",
       " 12: 0.5,\n",
       " 13: 2.5,\n",
       " 14: 1.8}"
      ]
     },
     "execution_count": 4,
     "metadata": {},
     "output_type": "execute_result"
    }
   ],
   "source": [
    "def get_kerndistanz(minPts, distanzes):\n",
    "    return sorted(distanzes)[2:3][0]\n",
    "\n",
    "alle_kerndistanzen = lambda minPts, data: {i:get_kerndistanz(minPts,distanzen) for i, distanzen in enumerate(data)}\n",
    "alle_kerndistanzen(minPts, data)"
   ]
  },
  {
   "cell_type": "markdown",
   "metadata": {},
   "source": [
    "## Kernpunkte\n",
    "Ein Punkt der in der Epsilon Umgebung (Radius) mindestenz minPts Punkte hat."
   ]
  },
  {
   "cell_type": "code",
   "execution_count": 26,
   "metadata": {},
   "outputs": [
    {
     "data": {
      "text/plain": [
       "[1, 2, 3, 6, 7, 8, 11, 12, 14]"
      ]
     },
     "execution_count": 26,
     "metadata": {},
     "output_type": "execute_result"
    }
   ],
   "source": [
    "def get_kernpunkte(data, minPts, epsilon):\n",
    "    kerndistanzen = alle_kerndistanzen(minPts, data)\n",
    "    return [punkt for punkt, kerndistanz in kerndistanzen.items() if kerndistanz<=epsilon]\n",
    "\n",
    "get_kernpunkte(data, minPts, epsilon)"
   ]
  },
  {
   "cell_type": "markdown",
   "metadata": {},
   "source": [
    "## Randpunkte\n",
    "Punkte die in der Epsilon Umgebung eines Kernpunkt liegen ohne selbst Kernpunkt zu sein."
   ]
  },
  {
   "cell_type": "code",
   "execution_count": 27,
   "metadata": {},
   "outputs": [
    {
     "data": {
      "text/plain": [
       "[0, 4, 5]"
      ]
     },
     "execution_count": 27,
     "metadata": {},
     "output_type": "execute_result"
    }
   ],
   "source": [
    "def get_randpunkte(data, minPts, epsilon):\n",
    "    kernpunkte = get_kernpunkte(data, minPts, epsilon)\n",
    "    punkte_in_epsilon = {i:False for i in range(len(data))}\n",
    "    for punkt in kernpunkte:\n",
    "        distanzen = data[punkt]\n",
    "        for i, distanz in enumerate(distanzen):\n",
    "            if distanz==0: continue\n",
    "            if distanz<=epsilon and i not in kernpunkte:\n",
    "                punkte_in_epsilon[i]=True\n",
    "    return [i for i, value in punkte_in_epsilon.items() if value]\n",
    "\n",
    "get_randpunkte(data, minPts, epsilon)"
   ]
  },
  {
   "cell_type": "markdown",
   "metadata": {},
   "source": [
    "## Rauschpunkte\n",
    "Punkte die weder Kernpunkt noch Randpunkt sind"
   ]
  },
  {
   "cell_type": "code",
   "execution_count": 33,
   "metadata": {},
   "outputs": [
    {
     "data": {
      "text/plain": [
       "[9, 10, 13]"
      ]
     },
     "execution_count": 33,
     "metadata": {},
     "output_type": "execute_result"
    }
   ],
   "source": [
    "def get_rauschpunkte(data, minPts, epsilon):\n",
    "    kernpunkte = get_kernpunkte(data, minPts, epsilon)\n",
    "    randpunkte = get_randpunkte(data, minPts, epsilon)\n",
    "    return [i for i in range(len(data)) if (i not in kernpunkte) and (i not in randpunkte)]\n",
    "\n",
    "get_rauschpunkte(data, minPts, epsilon)"
   ]
  },
  {
   "cell_type": "markdown",
   "metadata": {},
   "source": [
    "## Cluster bildung\n",
    "Kernpunkte die sich innerhalb der Epsilon-Umgebung schneiden bilden gemeinsam ein Cluster. <br>\n",
    "_(Kurs gibt anderen Algorithmus an)_"
   ]
  },
  {
   "cell_type": "code",
   "execution_count": 43,
   "metadata": {},
   "outputs": [
    {
     "data": {
      "text/plain": [
       "[[0, 1, 2, 7], [3, 6, 11, 12], [4, 5, 8, 14]]"
      ]
     },
     "execution_count": 43,
     "metadata": {},
     "output_type": "execute_result"
    }
   ],
   "source": [
    "def get_cluster(data,minPts,epsilon):\n",
    "    clusters=[]\n",
    "    kernpunkte = get_kernpunkte(data, minPts,epsilon)\n",
    "    randpunkte = get_randpunkte(data, minPts, epsilon)\n",
    "    for punkt in kernpunkte+randpunkte: # Reihenfolge ist wichtig\n",
    "        found=False\n",
    "        for cluster in clusters:\n",
    "            for c_punkt in cluster:\n",
    "                if data[punkt][c_punkt]<=epsilon:\n",
    "                    cluster.append(punkt)\n",
    "                    found= True\n",
    "                    break\n",
    "            if found: break\n",
    "        else:\n",
    "            clusters.append([punkt])\n",
    "        # Sort clusters\n",
    "        for i in range(len(clusters)):\n",
    "            clusters[i]=sorted(clusters[i])\n",
    "            \n",
    "    return clusters\n",
    "get_cluster(data,minPts,epsilon)"
   ]
  },
  {
   "cell_type": "markdown",
   "metadata": {},
   "source": [
    "## Gesammelt"
   ]
  },
  {
   "cell_type": "code",
   "execution_count": 44,
   "metadata": {},
   "outputs": [
    {
     "name": "stdout",
     "output_type": "stream",
     "text": [
      "Kerndistanzen:  {0: 2.8, 1: 1.8, 2: 1.6, 3: 0.7, 4: 2.2, 5: 2.5, 6: 0.7, 7: 1.8, 8: 1.8, 9: 2.5, 10: 2.8, 11: 1.1, 12: 0.5, 13: 2.5, 14: 1.8}\n",
      "Kernpunkte:  [1, 2, 3, 6, 7, 8, 11, 12, 14]\n",
      "Randpunkte:  [0, 4, 5]\n",
      "Rauschpunkte:  [9, 10, 13]\n",
      "Cluster:  [[0, 1, 2, 7], [3, 6, 11, 12], [4, 5, 8, 14]]\n"
     ]
    }
   ],
   "source": [
    "print(\"Kerndistanzen: \", alle_kerndistanzen(minPts,data))\n",
    "print(\"Kernpunkte: \", get_kernpunkte(data,minPts,epsilon))\n",
    "print(\"Randpunkte: \", get_randpunkte(data,minPts,epsilon))\n",
    "print(\"Rauschpunkte: \", get_rauschpunkte(data,minPts,epsilon))\n",
    "print(\"Cluster: \", get_cluster(data,minPts,epsilon))\n"
   ]
  }
 ],
 "metadata": {
  "interpreter": {
   "hash": "ecf5722fdaf1897a315d257d89d94520bfcaa453217d5becf09b39e73618b0de"
  },
  "kernelspec": {
   "display_name": "Python 3.9.7 64-bit ('base': conda)",
   "language": "python",
   "name": "python3"
  },
  "language_info": {
   "codemirror_mode": {
    "name": "ipython",
    "version": 3
   },
   "file_extension": ".py",
   "mimetype": "text/x-python",
   "name": "python",
   "nbconvert_exporter": "python",
   "pygments_lexer": "ipython3",
   "version": "3.9.7"
  },
  "orig_nbformat": 4
 },
 "nbformat": 4,
 "nbformat_minor": 2
}
