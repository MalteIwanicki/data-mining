{
 "cells": [
  {
   "cell_type": "code",
   "execution_count": 1,
   "metadata": {},
   "outputs": [],
   "source": [
    "import pandas as pd\n",
    "import numpy as np\n",
    "import matplotlib.pyplot as plt\n",
    "import pylab\n",
    "import scipy.stats as stats\n"
   ]
  },
  {
   "cell_type": "code",
   "execution_count": 2,
   "metadata": {},
   "outputs": [],
   "source": [
    "data = {\n",
    "    \"Blutdruck\": [98, 101, 102, 109, 117, 126, 130, 132, 135, 147, 155, 179],\n",
    "    \"BMI\": [17.2, 18, 19.7, 18.5, 21.1, 20.6, 22.4, 23.0, 23.6, 27.1, 26, 29.5],\n",
    "}\n"
   ]
  },
  {
   "cell_type": "code",
   "execution_count": 3,
   "metadata": {},
   "outputs": [
    {
     "data": {
      "text/plain": [
       "{'whiskers': [<matplotlib.lines.Line2D at 0x7f55e6dfdf10>,\n",
       "  <matplotlib.lines.Line2D at 0x7f55e6e1f220>],\n",
       " 'caps': [<matplotlib.lines.Line2D at 0x7f55e6e1f5b0>,\n",
       "  <matplotlib.lines.Line2D at 0x7f55e6e1f7c0>],\n",
       " 'boxes': [<matplotlib.lines.Line2D at 0x7f55e6dfdc40>],\n",
       " 'medians': [<matplotlib.lines.Line2D at 0x7f55e6e1fa90>],\n",
       " 'fliers': [<matplotlib.lines.Line2D at 0x7f55e6e1fd60>],\n",
       " 'means': []}"
      ]
     },
     "execution_count": 3,
     "metadata": {},
     "output_type": "execute_result"
    },
    {
     "data": {
      "image/png": "[encoded data removed]",
      "text/plain": [
       "<Figure size 432x288 with 1 Axes>"
      ]
     },
     "metadata": {
      "needs_background": "light"
     },
     "output_type": "display_data"
    }
   ],
   "source": [
    "fig1, ax1 = plt.subplots()\n",
    "ax1.set_title('Basic Plot')\n",
    "ax1.boxplot(data[\"Blutdruck\"],vert=False)"
   ]
  },
  {
   "cell_type": "code",
   "execution_count": 5,
   "metadata": {},
   "outputs": [
    {
     "data": {
      "image/png": "[encoded data removed]",
      "text/plain": [
       "<Figure size 432x288 with 1 Axes>"
      ]
     },
     "metadata": {
      "needs_background": "light"
     },
     "output_type": "display_data"
    }
   ],
   "source": [
    "fig, ax = plt.subplots()\n",
    "# mit linie durch\n",
    "ax.scatter(data[\"Blutdruck\"], data[\"BMI\"])\n",
    "plt.show()"
   ]
  },
  {
   "cell_type": "code",
   "execution_count": null,
   "metadata": {},
   "outputs": [],
   "source": []
  }
 ],
 "metadata": {
  "interpreter": {
   "hash": "916dbcbb3f70747c44a77c7bcd40155683ae19c65e1c03b4aa3499c5328201f1"
  },
  "kernelspec": {
   "display_name": "Python 3.9.7 64-bit",
   "language": "python",
   "name": "python3"
  },
  "language_info": {
   "codemirror_mode": {
    "name": "ipython",
    "version": 3
   },
   "file_extension": ".py",
   "mimetype": "text/x-python",
   "name": "python",
   "nbconvert_exporter": "python",
   "pygments_lexer": "ipython3",
   "version": "3.9.7"
  },
  "orig_nbformat": 4
 },
 "nbformat": 4,
 "nbformat_minor": 2
}
