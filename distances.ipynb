{
 "cells": [
  {
   "cell_type": "markdown",
   "metadata": {},
   "source": [
    "# Setup"
   ]
  },
  {
   "cell_type": "code",
   "execution_count": 7,
   "metadata": {},
   "outputs": [],
   "source": [
    "from math import sqrt"
   ]
  },
  {
   "cell_type": "code",
   "execution_count": 8,
   "metadata": {},
   "outputs": [],
   "source": [
    "def round_to(number_after_point):\n",
    "    def decorator_round(func):\n",
    "        def wrapper_round(*args, **kwargs):\n",
    "            result= func(*args,**kwargs)\n",
    "            return round(result,number_after_point)\n",
    "        return wrapper_round\n",
    "    return decorator_round"
   ]
  },
  {
   "cell_type": "code",
   "execution_count": 9,
   "metadata": {},
   "outputs": [],
   "source": [
    "def point_comparison(func):\n",
    "    def wrapper(point_a, point_b, *args, **kwargs):\n",
    "        if len(point_a) != len(point_b):\n",
    "            raise Exception(\n",
    "                \"cant create distance points dont have same amount of dimensions\"\n",
    "            )\n",
    "        return func(point_a, point_b, *args, **kwargs)\n",
    "\n",
    "    return wrapper\n"
   ]
  },
  {
   "cell_type": "markdown",
   "metadata": {},
   "source": [
    "# Data"
   ]
  },
  {
   "cell_type": "code",
   "execution_count": 10,
   "metadata": {},
   "outputs": [],
   "source": [
    "points = {\"x\": (5, 11, 28), \"y\": (7, 16, 26)}\n"
   ]
  },
  {
   "cell_type": "markdown",
   "metadata": {},
   "source": [
    "# Euklidische Distanz"
   ]
  },
  {
   "cell_type": "code",
   "execution_count": 11,
   "metadata": {},
   "outputs": [
    {
     "data": {
      "text/plain": [
       "5.745"
      ]
     },
     "execution_count": 11,
     "metadata": {},
     "output_type": "execute_result"
    }
   ],
   "source": [
    "@round_to(3)\n",
    "@point_comparison\n",
    "def euclidean_distance(point_a, point_b):\n",
    "    sum = 0\n",
    "    for a, b in zip(point_a, point_b):\n",
    "        sum += (a - b) ** 2\n",
    "    return sqrt(sum)\n",
    "\n",
    "\n",
    "euclidean_distance(points[\"x\"], points[\"y\"])\n"
   ]
  },
  {
   "cell_type": "markdown",
   "metadata": {},
   "source": [
    "# Manhatten Distanz"
   ]
  },
  {
   "cell_type": "code",
   "execution_count": 13,
   "metadata": {},
   "outputs": [
    {
     "data": {
      "text/plain": [
       "9"
      ]
     },
     "execution_count": 13,
     "metadata": {},
     "output_type": "execute_result"
    }
   ],
   "source": [
    "@round_to(3)\n",
    "@point_comparison\n",
    "def manhatten_distance(point_a, point_b):\n",
    "    sum = 0\n",
    "    for a, b in zip(point_a, point_b):\n",
    "        sum += abs(a - b)\n",
    "    return sum\n",
    "\n",
    "manhatten_distance(points[\"x\"], points[\"y\"])\n"
   ]
  },
  {
   "cell_type": "code",
   "execution_count": 14,
   "metadata": {},
   "outputs": [
    {
     "name": "stdout",
     "output_type": "stream",
     "text": [
      "point 0: 0.7\n",
      "point 1: 0.9\n",
      "point 2: 1.0\n",
      "point 3: 0.6\n",
      "point 4: 0.8\n"
     ]
    }
   ],
   "source": [
    "data=[(2.6, 3), (2.3, 2.9), (2.3, 1.6), (2.7, 2.8), (1.9, 2.2)]\n",
    "nullpunkt=(2.6, 2.3)\n",
    "for i, point in enumerate(data):\n",
    "    print(f\"point {i}: {manhatten_distance(nullpunkt, point)}\")\n"
   ]
  },
  {
   "cell_type": "markdown",
   "metadata": {},
   "source": [
    "# Minkowski Distanz"
   ]
  },
  {
   "cell_type": "code",
   "execution_count": 19,
   "metadata": {},
   "outputs": [],
   "source": [
    "alpha = 4\n",
    "INFINITY = 10"
   ]
  },
  {
   "cell_type": "code",
   "execution_count": 20,
   "metadata": {},
   "outputs": [
    {
     "data": {
      "text/plain": [
       "5.063"
      ]
     },
     "execution_count": 20,
     "metadata": {},
     "output_type": "execute_result"
    }
   ],
   "source": [
    "@round_to(3)\n",
    "@point_comparison\n",
    "def minkowski_distance(point_a, point_b, alpha):\n",
    "    \"\"\"alpha = 1 -> manhatten, alpha=2 -> euclidean,alpha=infinity -> maximum\"\"\"\n",
    "    sum = 0\n",
    "    for a, b in zip(point_a, point_b):\n",
    "        sum += abs(a - b) ** alpha\n",
    "    return sum ** (1 / alpha)\n",
    "\n",
    "\n",
    "minkowski_distance(points[\"x\"], points[\"y\"], alpha)\n"
   ]
  },
  {
   "cell_type": "markdown",
   "metadata": {},
   "source": [
    "# Maximum Distanz"
   ]
  },
  {
   "cell_type": "code",
   "execution_count": 24,
   "metadata": {},
   "outputs": [
    {
     "data": {
      "text/plain": [
       "5"
      ]
     },
     "execution_count": 24,
     "metadata": {},
     "output_type": "execute_result"
    }
   ],
   "source": [
    "@round_to(3)\n",
    "@point_comparison\n",
    "def maximum_distance(point_a, point_b):\n",
    "    maximum = 0\n",
    "    for a, b in zip(point_a, point_b):\n",
    "        maximum = max(maximum, abs(a - b))\n",
    "    return maximum\n",
    "\n",
    "maximum_distance(points[\"x\"], points[\"y\"])\n"
   ]
  },
  {
   "cell_type": "code",
   "execution_count": 28,
   "metadata": {},
   "outputs": [
    {
     "name": "stdout",
     "output_type": "stream",
     "text": [
      "(2.6, 3) - (2.6, 2.3): 0.7\n",
      "(2.3, 2.9) - (2.6, 2.3): 0.6\n",
      "(2.3, 1.6) - (2.6, 2.3): 0.7\n",
      "(2.7, 2.8) - (2.6, 2.3): 0.5\n",
      "(1.9, 2.2) - (2.6, 2.3): 0.7\n"
     ]
    }
   ],
   "source": [
    "for i, point in enumerate(\n",
    "        [(2.6, 3), (2.3, 2.9), (2.3, 1.6), (2.7, 2.8), (1.9, 2.2)]\n",
    "    ):\n",
    "        print(f\"{point} - (2.6, 2.3): {maximum_distance((2.6, 2.3), point)}\")"
   ]
  },
  {
   "cell_type": "code",
   "execution_count": null,
   "metadata": {},
   "outputs": [],
   "source": [
    "[(2,2),(3,2),(4,1),(5,8),(1,3),(6,4),(8,4),(7,5)]"
   ]
  }
 ],
 "metadata": {
  "interpreter": {
   "hash": "916dbcbb3f70747c44a77c7bcd40155683ae19c65e1c03b4aa3499c5328201f1"
  },
  "kernelspec": {
   "display_name": "Python 3.9.7 64-bit",
   "language": "python",
   "name": "python3"
  },
  "language_info": {
   "codemirror_mode": {
    "name": "ipython",
    "version": 3
   },
   "file_extension": ".py",
   "mimetype": "text/x-python",
   "name": "python",
   "nbconvert_exporter": "python",
   "pygments_lexer": "ipython3",
   "version": "3.9.7"
  },
  "orig_nbformat": 4
 },
 "nbformat": 4,
 "nbformat_minor": 2
}
