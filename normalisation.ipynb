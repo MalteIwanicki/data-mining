{
 "cells": [
  {
   "cell_type": "code",
   "execution_count": 3,
   "metadata": {},
   "outputs": [],
   "source": [
    "body_sizes = [135,158,159,161,162,162,164,165,165,165,165,167,168,168,169,169,170,172,172,173,175,179]"
   ]
  },
  {
   "cell_type": "markdown",
   "metadata": {},
   "source": [
    "# Max Min Normaliser"
   ]
  },
  {
   "cell_type": "code",
   "execution_count": 19,
   "metadata": {},
   "outputs": [
    {
     "name": "stdout",
     "output_type": "stream",
     "text": [
      "0.614\n"
     ]
    }
   ],
   "source": [
    "class MaxMinNormalizer:\n",
    "    def __init__(\n",
    "        self, \n",
    "        values, \n",
    "        min_intervall, \n",
    "        max_intervall\n",
    "        ):\n",
    "        self._max=max(values)\n",
    "        self._min=min(values)\n",
    "        self._intervall=(min_intervall,max_intervall)\n",
    "    def __call__(self, value):\n",
    "        return (value-self._min)/(self._max-self._min)*(self._intervall[1]-self._intervall[0])+self._intervall[0]\n",
    "    \n",
    "normalizer=MaxMinNormalizer(body_sizes,0,1)\n",
    "print(round(normalizer(162),3))"
   ]
  },
  {
   "cell_type": "markdown",
   "metadata": {},
   "source": [
    "# Z Transformer"
   ]
  },
  {
   "cell_type": "code",
   "execution_count": 32,
   "metadata": {},
   "outputs": [
    {
     "name": "stdout",
     "output_type": "stream",
     "text": [
      "median: 165.591, varianz: 70.424, standard derivation: 8.392, average absolute derivation: 5.5\n",
      "standard derivation: -0.428\n",
      "average absolute derivation: -0.653\n"
     ]
    }
   ],
   "source": [
    "from math import sqrt\n",
    "\n",
    "class zTransformer:\n",
    "    def __init__(self, values) -> None:\n",
    "        self._median = mu = sum(values)/len(values)\n",
    "        self._varianz = VAR = sum([(x-mu)**2 for x in values])/len(values)\n",
    "        self._std = sqrt(VAR)\n",
    "        self._average_absolute_derivation= sum([abs(x-mu) for x in values])/len(values)\n",
    "        pass\n",
    "    \n",
    "    def __call__(self, value, with_average_absolute_derivation=False):\n",
    "        if with_average_absolute_derivation:\n",
    "            return self.average_absolute_derivation(value)\n",
    "        return self.std_derivation(value)\n",
    "    \n",
    "    def std_derivation(self,value):\n",
    "        return (value-self._median)/self._std\n",
    "    \n",
    "    def average_absolute_derivation(self,value):\n",
    "        return (value-self._median)/self._average_absolute_derivation \n",
    "\n",
    "transformer = t = zTransformer(body_sizes)\n",
    "print(f\"median: {round(t._median,3)}, varianz: {round(t._varianz,3)}, standard derivation: {round(t._std,3)}, average absolute derivation: {round(t._average_absolute_derivation,3)}\")\n",
    "print(f\"standard derivation: {round(transformer(162),3)}\")\n",
    "print(f\"average absolute derivation: {round(transformer(162,True),3)}\")"
   ]
  },
  {
   "cell_type": "markdown",
   "metadata": {},
   "source": [
    "# Decimalnormaliser"
   ]
  },
  {
   "cell_type": "code",
   "execution_count": 40,
   "metadata": {},
   "outputs": [
    {
     "name": "stdout",
     "output_type": "stream",
     "text": [
      "power: 3, 162 normalized: 0.162\n"
     ]
    }
   ],
   "source": [
    "class DezimalNormaliser:\n",
    "    def __init__(self, values):\n",
    "        self._power_of_ten = __class__._get_power_of_ten(values)\n",
    "        \n",
    "    def _get_power_of_ten(values):\n",
    "        m=max(values)\n",
    "        power=0\n",
    "        while 10**power < m:\n",
    "            power+=1\n",
    "        return power\n",
    "    \n",
    "    def __call__(self, value):\n",
    "        return value/10**self._power_of_ten\n",
    "\n",
    "dnormalizer= DezimalNormaliser(body_sizes)\n",
    "value=162\n",
    "print(f\"power: {dnormalizer._power_of_ten}, {value} normalized: {dnormalizer(value)}\")"
   ]
  }
 ],
 "metadata": {
  "interpreter": {
   "hash": "b89b5cfaba6639976dc87ff2fec6d58faec662063367e2c229c520fe71072417"
  },
  "kernelspec": {
   "display_name": "Python 3.10.0 64-bit",
   "language": "python",
   "name": "python3"
  },
  "language_info": {
   "codemirror_mode": {
    "name": "ipython",
    "version": 3
   },
   "file_extension": ".py",
   "mimetype": "text/x-python",
   "name": "python",
   "nbconvert_exporter": "python",
   "pygments_lexer": "ipython3",
   "version": "3.10.0"
  },
  "orig_nbformat": 4
 },
 "nbformat": 4,
 "nbformat_minor": 2
}
