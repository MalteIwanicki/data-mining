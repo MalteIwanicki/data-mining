{
 "cells": [
  {
   "cell_type": "code",
   "execution_count": 1,
   "metadata": {},
   "outputs": [],
   "source": [
    "from IPython.display import display, Markdown, Latex\n"
   ]
  },
  {
   "cell_type": "code",
   "execution_count": 2,
   "metadata": {},
   "outputs": [],
   "source": [
    "body_sizes = [\n",
    "    135,\n",
    "    158,\n",
    "    159,\n",
    "    161,\n",
    "    162,\n",
    "    162,\n",
    "    164,\n",
    "    165,\n",
    "    165,\n",
    "    165,\n",
    "    165,\n",
    "    167,\n",
    "    168,\n",
    "    168,\n",
    "    169,\n",
    "    169,\n",
    "    170,\n",
    "    172,\n",
    "    172,\n",
    "    173,\n",
    "    175,\n",
    "    179,\n",
    "]\n",
    "\n",
    "data = [12, -5, 0, 6, -6]\n"
   ]
  },
  {
   "cell_type": "markdown",
   "metadata": {},
   "source": [
    "# Min-Max-Normalisierung\n",
    "<img src=\"img/min-max-normalisierung.png\" alt=\"Drawing\" style=\"width: 600px;\"/>"
   ]
  },
  {
   "cell_type": "markdown",
   "metadata": {},
   "source": [
    "## function"
   ]
  },
  {
   "cell_type": "code",
   "execution_count": 3,
   "metadata": {},
   "outputs": [],
   "source": [
    "class MaxMinNormalizer:\n",
    "    FORMULA = f\"$$ a_i'=\\\\frac{{ a_i-min(A) }}{{ max(A)-min(A) }}(I_r-Il)+Il $$\"\n",
    "\n",
    "    def __init__(self, values, interval_min, interval_max):\n",
    "        self._max = max(values)\n",
    "        self._min = min(values)\n",
    "        self.interval_min = interval_min\n",
    "        self.interval_max = interval_max\n",
    "        display(Markdown(MaxMinNormalizer.FORMULA))\n",
    "\n",
    "    def __call__(self, value):\n",
    "        top = value - self._min\n",
    "        bot = self._max - self._min\n",
    "        fraction = top / bot\n",
    "        result = fraction * (self.interval_max - self.interval_min) + self.interval_min\n",
    "        display(\n",
    "            Markdown(\n",
    "                f\"$$\"\n",
    "                f\"{value}'=\\\\frac{{ {value}-{self._min} }}{{ {self._max} - {self._min} }}({self.interval_max} - {self.interval_min})+{self.interval_min}\"\n",
    "                f\"={round(result,3)}$$\"\n",
    "            )\n",
    "        )\n",
    "        return result\n"
   ]
  },
  {
   "cell_type": "markdown",
   "metadata": {},
   "source": [
    "## usage"
   ]
  },
  {
   "cell_type": "code",
   "execution_count": 4,
   "metadata": {},
   "outputs": [
    {
     "data": {
      "text/markdown": [
       "$$ a_i'=\\frac{ a_i-min(A) }{ max(A)-min(A) }(I_r-Il)+Il $$"
      ],
      "text/plain": [
       "<IPython.core.display.Markdown object>"
      ]
     },
     "metadata": {},
     "output_type": "display_data"
    },
    {
     "data": {
      "text/markdown": [
       "$$12'=\\frac{ 12--6 }{ 12 - -6 }(1 - -1)+-1=1.0$$"
      ],
      "text/plain": [
       "<IPython.core.display.Markdown object>"
      ]
     },
     "metadata": {},
     "output_type": "display_data"
    },
    {
     "data": {
      "text/markdown": [
       "$$-5'=\\frac{ -5--6 }{ 12 - -6 }(1 - -1)+-1=-0.889$$"
      ],
      "text/plain": [
       "<IPython.core.display.Markdown object>"
      ]
     },
     "metadata": {},
     "output_type": "display_data"
    },
    {
     "data": {
      "text/markdown": [
       "$$0'=\\frac{ 0--6 }{ 12 - -6 }(1 - -1)+-1=-0.333$$"
      ],
      "text/plain": [
       "<IPython.core.display.Markdown object>"
      ]
     },
     "metadata": {},
     "output_type": "display_data"
    },
    {
     "data": {
      "text/markdown": [
       "$$6'=\\frac{ 6--6 }{ 12 - -6 }(1 - -1)+-1=0.333$$"
      ],
      "text/plain": [
       "<IPython.core.display.Markdown object>"
      ]
     },
     "metadata": {},
     "output_type": "display_data"
    },
    {
     "data": {
      "text/markdown": [
       "$$-6'=\\frac{ -6--6 }{ 12 - -6 }(1 - -1)+-1=-1.0$$"
      ],
      "text/plain": [
       "<IPython.core.display.Markdown object>"
      ]
     },
     "metadata": {},
     "output_type": "display_data"
    }
   ],
   "source": [
    "normalizer = MaxMinNormalizer(data, -1, 1)\n",
    "for d in data:\n",
    "    normalizer(d)\n"
   ]
  },
  {
   "cell_type": "markdown",
   "metadata": {},
   "source": [
    "# Z Transformer / z-transformation\n",
    "\n",
    "![](images/2022-03-17-13-24-06.png) default\n",
    "\n",
    "![](images/2022-03-17-13-48-14.png) mittlere absolute abweichung ersetzt standardabweichung"
   ]
  },
  {
   "cell_type": "markdown",
   "metadata": {},
   "source": [
    "## function"
   ]
  },
  {
   "cell_type": "code",
   "execution_count": 5,
   "metadata": {},
   "outputs": [],
   "source": [
    "from math import sqrt\n",
    "\n",
    "\n",
    "class zTransformer:\n",
    "    FORMULA = f\"$$ a_i'=\\\\frac{{ a_i-\\\\bar{{A}} }}{{ \\\\sigma_A }}$$\"\n",
    "\n",
    "    def __init__(self, values) -> None:\n",
    "        self._median = mu = sum(values) / len(values)\n",
    "        self._varianz = VAR = sum([(x - mu) ** 2 for x in values]) / len(values)\n",
    "        self._std = sqrt(VAR)\n",
    "        self._average_absolute_deviation = sum([abs(x - mu) for x in values]) / len(\n",
    "            values\n",
    "        )\n",
    "        display(Markdown(zTransformer.FORMULA))\n",
    "        display(\n",
    "            Markdown(\n",
    "                f\"$$\\\\text{{median}} = \\\\bar{{A}} \\\\approx {round(self._median,3)} $$\"\n",
    "            )\n",
    "        )\n",
    "        display(\n",
    "            Markdown(\n",
    "                f\"$$\\\\text{{standard deviation}} = \\\\sigma_A \\\\approx {round(self._std,3)} $$\"\n",
    "            )\n",
    "        )\n",
    "        display(\n",
    "            Markdown(\n",
    "                f\"$$\\\\text{{average absolute deviation}} = S_A \\\\approx {round(self._average_absolute_deviation,3)} $$\"\n",
    "            )\n",
    "        )\n",
    "\n",
    "    def __call__(self, value, with_average_absolute_deviation=False):\n",
    "        if with_average_absolute_deviation:\n",
    "            return self.average_absolute_derivation(value)\n",
    "        return self.std_derivation(value)\n",
    "\n",
    "    def std_derivation(self, value):\n",
    "        result = (value - self._median) / self._std\n",
    "        display(\n",
    "            Markdown(\n",
    "                f\"$${value}' = \\\\frac{{ {value}-{self._median} }}{{ {self._std} }}\\\\approx{round(result,3)}$$\"\n",
    "            )\n",
    "        )\n",
    "\n",
    "        return result\n",
    "\n",
    "    def average_absolute_derivation(self, value):\n",
    "        return (value - self._median) / self._average_absolute_deviation\n"
   ]
  },
  {
   "cell_type": "markdown",
   "metadata": {},
   "source": [
    "## usage\n"
   ]
  },
  {
   "cell_type": "code",
   "execution_count": 6,
   "metadata": {},
   "outputs": [
    {
     "data": {
      "text/markdown": [
       "$$ a_i'=\\frac{ a_i-\\bar{A} }{ \\sigma_A }$$"
      ],
      "text/plain": [
       "<IPython.core.display.Markdown object>"
      ]
     },
     "metadata": {},
     "output_type": "display_data"
    },
    {
     "data": {
      "text/markdown": [
       "$$\\text{median} = \\bar{A} \\approx 1.4 $$"
      ],
      "text/plain": [
       "<IPython.core.display.Markdown object>"
      ]
     },
     "metadata": {},
     "output_type": "display_data"
    },
    {
     "data": {
      "text/markdown": [
       "$$\\text{standard deviation} = \\sigma_A \\approx 6.8 $$"
      ],
      "text/plain": [
       "<IPython.core.display.Markdown object>"
      ]
     },
     "metadata": {},
     "output_type": "display_data"
    },
    {
     "data": {
      "text/markdown": [
       "$$\\text{average absolute deviation} = S_A \\approx 6.08 $$"
      ],
      "text/plain": [
       "<IPython.core.display.Markdown object>"
      ]
     },
     "metadata": {},
     "output_type": "display_data"
    },
    {
     "data": {
      "text/markdown": [
       "$$12' = \\frac{ 12-1.4 }{ 6.8 }\\approx1.559$$"
      ],
      "text/plain": [
       "<IPython.core.display.Markdown object>"
      ]
     },
     "metadata": {},
     "output_type": "display_data"
    },
    {
     "data": {
      "text/markdown": [
       "$$-5' = \\frac{ -5-1.4 }{ 6.8 }\\approx-0.941$$"
      ],
      "text/plain": [
       "<IPython.core.display.Markdown object>"
      ]
     },
     "metadata": {},
     "output_type": "display_data"
    },
    {
     "data": {
      "text/markdown": [
       "$$0' = \\frac{ 0-1.4 }{ 6.8 }\\approx-0.206$$"
      ],
      "text/plain": [
       "<IPython.core.display.Markdown object>"
      ]
     },
     "metadata": {},
     "output_type": "display_data"
    },
    {
     "data": {
      "text/markdown": [
       "$$6' = \\frac{ 6-1.4 }{ 6.8 }\\approx0.676$$"
      ],
      "text/plain": [
       "<IPython.core.display.Markdown object>"
      ]
     },
     "metadata": {},
     "output_type": "display_data"
    },
    {
     "data": {
      "text/markdown": [
       "$$-6' = \\frac{ -6-1.4 }{ 6.8 }\\approx-1.088$$"
      ],
      "text/plain": [
       "<IPython.core.display.Markdown object>"
      ]
     },
     "metadata": {},
     "output_type": "display_data"
    }
   ],
   "source": [
    "transformer = zTransformer(data)\n",
    "for d in data:\n",
    "    transformer(d)\n"
   ]
  },
  {
   "cell_type": "markdown",
   "metadata": {},
   "source": [
    "# Decimalnormaliser\n",
    "dezimalskalierung\n",
    "![](images/2022-03-17-13-54-26.png)"
   ]
  },
  {
   "cell_type": "markdown",
   "metadata": {},
   "source": [
    "## function"
   ]
  },
  {
   "cell_type": "code",
   "execution_count": 7,
   "metadata": {},
   "outputs": [],
   "source": [
    "class DezimalNormaliser:\n",
    "    def __init__(self, values):\n",
    "        self._power_of_ten = DezimalNormaliser._get_power_of_ten(values)\n",
    "\n",
    "    def _get_power_of_ten(values):\n",
    "        m = max(values)\n",
    "        power = 0\n",
    "        while 10**power < m:\n",
    "            power += 1\n",
    "        return power\n",
    "\n",
    "    def __call__(self, value):\n",
    "        result = value / 10**self._power_of_ten\n",
    "        display(\n",
    "            Markdown(\n",
    "                f\"$${value}' = \\\\frac{{ {value} }} {{ 10^{{ {self._power_of_ten}}}  }} = {result}$$\"\n",
    "            )\n",
    "        )\n",
    "\n",
    "        return result\n"
   ]
  },
  {
   "cell_type": "markdown",
   "metadata": {},
   "source": [
    "## usage"
   ]
  },
  {
   "cell_type": "code",
   "execution_count": 8,
   "metadata": {},
   "outputs": [
    {
     "data": {
      "text/markdown": [
       "$$12' = \\frac{ 12 } { 10^{ 2}  } = 0.12$$"
      ],
      "text/plain": [
       "<IPython.core.display.Markdown object>"
      ]
     },
     "metadata": {},
     "output_type": "display_data"
    },
    {
     "data": {
      "text/markdown": [
       "$$-5' = \\frac{ -5 } { 10^{ 2}  } = -0.05$$"
      ],
      "text/plain": [
       "<IPython.core.display.Markdown object>"
      ]
     },
     "metadata": {},
     "output_type": "display_data"
    },
    {
     "data": {
      "text/markdown": [
       "$$0' = \\frac{ 0 } { 10^{ 2}  } = 0.0$$"
      ],
      "text/plain": [
       "<IPython.core.display.Markdown object>"
      ]
     },
     "metadata": {},
     "output_type": "display_data"
    },
    {
     "data": {
      "text/markdown": [
       "$$6' = \\frac{ 6 } { 10^{ 2}  } = 0.06$$"
      ],
      "text/plain": [
       "<IPython.core.display.Markdown object>"
      ]
     },
     "metadata": {},
     "output_type": "display_data"
    },
    {
     "data": {
      "text/markdown": [
       "$$-6' = \\frac{ -6 } { 10^{ 2}  } = -0.06$$"
      ],
      "text/plain": [
       "<IPython.core.display.Markdown object>"
      ]
     },
     "metadata": {},
     "output_type": "display_data"
    }
   ],
   "source": [
    "normalizer = DezimalNormaliser(data)\n",
    "for d in data:\n",
    "    normalizer(d)\n"
   ]
  }
 ],
 "metadata": {
  "interpreter": {
   "hash": "b89b5cfaba6639976dc87ff2fec6d58faec662063367e2c229c520fe71072417"
  },
  "kernelspec": {
   "display_name": "Python 3.10.0 64-bit",
   "language": "python",
   "name": "python3"
  },
  "language_info": {
   "codemirror_mode": {
    "name": "ipython",
    "version": 3
   },
   "file_extension": ".py",
   "mimetype": "text/x-python",
   "name": "python",
   "nbconvert_exporter": "python",
   "pygments_lexer": "ipython3",
   "version": "3.9.7"
  },
  "orig_nbformat": 4
 },
 "nbformat": 4,
 "nbformat_minor": 2
}
