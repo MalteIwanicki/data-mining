{
 "cells": [
  {
   "cell_type": "code",
   "execution_count": 1,
   "metadata": {},
   "outputs": [],
   "source": [
    "from math import sqrt\n",
    "\n",
    "def manhatten_distance(point_a, point_b):\n",
    "    if len(point_a) != len(point_b):\n",
    "        raise Exception(\"cant create manhatten distance\")\n",
    "    sum = 0\n",
    "    for i in range(len(point_a)):\n",
    "        sum += abs(point_a[i] - point_b[i])\n",
    "    return sum"
   ]
  },
  {
   "cell_type": "code",
   "execution_count": 4,
   "metadata": {},
   "outputs": [
    {
     "name": "stdout",
     "output_type": "stream",
     "text": [
      "point 0: 0.7000000000000002\n",
      "point 1: 0.9000000000000004\n",
      "point 2: 1.0\n",
      "point 3: 0.6000000000000001\n",
      "point 4: 0.7999999999999998\n"
     ]
    }
   ],
   "source": [
    "data=[(2.6, 3), (2.3, 2.9), (2.3, 1.6), (2.7, 2.8), (1.9, 2.2)]\n",
    "nullpunkt=(2.6, 2.3)\n",
    "for i, point in enumerate(data):\n",
    "    print(f\"point {i}: {manhatten_distance(nullpunkt, point)}\")\n"
   ]
  }
 ],
 "metadata": {
  "interpreter": {
   "hash": "ecf5722fdaf1897a315d257d89d94520bfcaa453217d5becf09b39e73618b0de"
  },
  "kernelspec": {
   "display_name": "Python 3.9.7 64-bit ('base': conda)",
   "language": "python",
   "name": "python3"
  },
  "language_info": {
   "codemirror_mode": {
    "name": "ipython",
    "version": 3
   },
   "file_extension": ".py",
   "mimetype": "text/x-python",
   "name": "python",
   "nbconvert_exporter": "python",
   "pygments_lexer": "ipython3",
   "version": "3.9.7"
  },
  "orig_nbformat": 4
 },
 "nbformat": 4,
 "nbformat_minor": 2
}
