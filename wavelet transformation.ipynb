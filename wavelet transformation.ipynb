{
 "cells": [
  {
   "cell_type": "code",
   "execution_count": 1,
   "metadata": {},
   "outputs": [],
   "source": [
    "import math\n"
   ]
  },
  {
   "cell_type": "code",
   "execution_count": 2,
   "metadata": {},
   "outputs": [],
   "source": [
    "def wavelet_transformation(data, threshold=None):  # glättungsfunktion\n",
    "    def middle(xi, xj):\n",
    "        return (xi + xj) / 2\n",
    "\n",
    "    df = [[d for d in data]]\n",
    "    while len(df[-1]) >= 2:\n",
    "        df.append([])\n",
    "        for xi, xj in zip(df[-2][::2], df[-2][1::2]):\n",
    "            df[-1].append(middle(xi, xj))\n",
    "\n",
    "    differences = [[]]\n",
    "    for i in range(1, len(df)):\n",
    "        differences.append([])\n",
    "        for top, bot in zip(df[i - 1][::2], df[i]):\n",
    "            differences[-1].append(top - bot)\n",
    "            if threshold and abs(differences[-1][-1]) <= threshold:\n",
    "                differences[-1][-1] = 0\n",
    "        differences[-1] = differences[-1] + differences[-2]\n",
    "\n",
    "    joined_tables = [midds + diffs for midds, diffs in zip(df, differences)]\n",
    "    [print(r) for r in joined_tables]\n",
    "    return joined_tables[-1]\n"
   ]
  },
  {
   "cell_type": "code",
   "execution_count": 3,
   "metadata": {},
   "outputs": [],
   "source": [
    "def back_transformation(data):  # unterschiedsfunktion\n",
    "    new_data = [[d for d in data]]\n",
    "    for i in range(int(math.log2(len(data)))):\n",
    "        values = [d for d in new_data[-1][: (2**i)]]\n",
    "        diffs = [d for d in data[(2**i) : (2**i) * 2]]\n",
    "        new_data.append([])\n",
    "\n",
    "        for value, diff in zip(values, diffs):\n",
    "            new_data[-1].append(value + diff)\n",
    "            new_data[-1].append(value - diff)\n",
    "    [print(r) for r in new_data]\n",
    "    return new_data[-1]\n"
   ]
  },
  {
   "cell_type": "code",
   "execution_count": 4,
   "metadata": {},
   "outputs": [
    {
     "name": "stdout",
     "output_type": "stream",
     "text": [
      "wavelet:\n",
      "[152, 228, 148, 176, 192, 220, 200, 32]\n",
      "[190.0, 162.0, 206.0, 116.0, -38.0, 0, 0, 84.0]\n",
      "[176.0, 161.0, 0, 45.0, -38.0, 0, 0, 84.0]\n",
      "[168.5, 0, 0, 45.0, -38.0, 0, 0, 84.0]\n",
      "back:\n",
      "[168.5, 0, 0, 45.0, -38.0, 0, 0, 84.0]\n",
      "[168.5, 168.5]\n",
      "[168.5, 168.5, 213.5, 123.5]\n",
      "[130.5, 206.5, 168.5, 168.5, 213.5, 213.5, 207.5, 39.5]\n",
      "\n"
     ]
    }
   ],
   "source": [
    "data = [96, 84, 92, 76, 28, 40, 32, 12, 48, 52, 80, 72, 24, 36, 36, 16]\n",
    "result = [51.5, 6, 29.5, 17.5, 3, 6, -13, 2, 6, 8, -6, 10, -2, 4, -6, 10]\n",
    "\n",
    "\n",
    "data = [152, 228, 148, 176, 192, 220, 200, 32]\n",
    "threshold = 30\n",
    "print(\"wavelet:\")\n",
    "wavelet = wavelet_transformation(data, threshold)\n",
    "print(\"back:\")\n",
    "back_transformation(wavelet)\n",
    "\n",
    "print()\n"
   ]
  }
 ],
 "metadata": {
  "interpreter": {
   "hash": "916dbcbb3f70747c44a77c7bcd40155683ae19c65e1c03b4aa3499c5328201f1"
  },
  "kernelspec": {
   "display_name": "Python 3.9.7 64-bit",
   "language": "python",
   "name": "python3"
  },
  "language_info": {
   "codemirror_mode": {
    "name": "ipython",
    "version": 3
   },
   "file_extension": ".py",
   "mimetype": "text/x-python",
   "name": "python",
   "nbconvert_exporter": "python",
   "pygments_lexer": "ipython3",
   "version": "3.9.7"
  },
  "orig_nbformat": 4
 },
 "nbformat": 4,
 "nbformat_minor": 2
}
