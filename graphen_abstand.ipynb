{
 "cells": [
  {
   "cell_type": "markdown",
   "metadata": {},
   "source": [
    "# Nichtnormalisierter Abstand\n"
   ]
  },
  {
   "cell_type": "code",
   "execution_count": 2,
   "metadata": {},
   "outputs": [],
   "source": [
    "def nichtnormalisierter_abstand(G_1, G_2):\n",
    "    gg = gemeinsamer_graph = set(G_1) & set(G_2)\n",
    "    return len(G_1) + len(G_2) - 2 * len(gg)\n"
   ]
  },
  {
   "cell_type": "code",
   "execution_count": 3,
   "metadata": {},
   "outputs": [],
   "source": [
    "def nichtnormalisierter_abstand(G_1, G_2, G_G):  # größen der jeweiligen graphen\n",
    "    return G_1 + G_2 - 2 * G_G\n"
   ]
  },
  {
   "cell_type": "markdown",
   "metadata": {},
   "source": [
    "# Vereinigungsnormalisierter Abstand"
   ]
  },
  {
   "cell_type": "code",
   "execution_count": 4,
   "metadata": {},
   "outputs": [],
   "source": [
    "def vereinigungsnormalisierter_abstand(G_1, G_2):\n",
    "    gg = gemeinsamer_graph = set(G_1) & set(G_2)\n",
    "    return 1 - (len(gg) / (len(G_1) + len(G_2) - len(gg)))\n"
   ]
  },
  {
   "cell_type": "code",
   "execution_count": 7,
   "metadata": {},
   "outputs": [],
   "source": [
    "def vereinigungsnormalisierter_abstand(G_1, G_2, G_G): # längen der graphen\n",
    "    return 1 - (G_G / (G_1 + G_2 - G_G))"
   ]
  },
  {
   "cell_type": "markdown",
   "metadata": {},
   "source": [
    "# Maximumnormalisierter Abstand"
   ]
  },
  {
   "cell_type": "code",
   "execution_count": 1,
   "metadata": {},
   "outputs": [],
   "source": [
    "def maximumnormalisierter_abstand(G_1, G_2, G_G):  # Längen der Graphen\n",
    "    return 1 - (G_G / (max(G_1, G_2)))\n"
   ]
  },
  {
   "cell_type": "markdown",
   "metadata": {},
   "source": [
    "# Beispiel Einsendeaufgabe"
   ]
  },
  {
   "cell_type": "code",
   "execution_count": 8,
   "metadata": {},
   "outputs": [
    {
     "name": "stdout",
     "output_type": "stream",
     "text": [
      "nichtnormalisiert:  6\n",
      "vereinigungsnormalisiert:  0.6666666666666667\n",
      "maximumnormalisiert:  0.6666666666666667\n"
     ]
    }
   ],
   "source": [
    "G_1 = größe_g_1 = 9\n",
    "G_2 = größe_g_2 = 3\n",
    "G_G = größe_gemeinsamer_graph = 3\n",
    "\n",
    "print(\"nichtnormalisiert: \", nichtnormalisierter_abstand(G_1, G_2, G_G))\n",
    "\n",
    "print(\"vereinigungsnormalisiert: \", vereinigungsnormalisierter_abstand(G_1, G_2, G_G))\n",
    "\n",
    "print(\"maximumnormalisiert: \", maximumnormalisierter_abstand(G_1, G_2, G_G))\n"
   ]
  },
  {
   "cell_type": "code",
   "execution_count": 9,
   "metadata": {},
   "outputs": [
    {
     "data": {
      "text/plain": [
       "6.6921304299024635"
      ]
     },
     "execution_count": 9,
     "metadata": {},
     "output_type": "execute_result"
    }
   ],
   "source": [
    "from math import sqrt\n",
    "\n",
    "a = [6, 8, 2]\n",
    "b = [sqrt(x) for x in a]\n",
    "sum(b)\n"
   ]
  },
  {
   "cell_type": "code",
   "execution_count": null,
   "metadata": {},
   "outputs": [],
   "source": []
  }
 ],
 "metadata": {
  "interpreter": {
   "hash": "ecf5722fdaf1897a315d257d89d94520bfcaa453217d5becf09b39e73618b0de"
  },
  "kernelspec": {
   "display_name": "Python 3.9.7 ('base')",
   "language": "python",
   "name": "python3"
  },
  "language_info": {
   "codemirror_mode": {
    "name": "ipython",
    "version": 3
   },
   "file_extension": ".py",
   "mimetype": "text/x-python",
   "name": "python",
   "nbconvert_exporter": "python",
   "pygments_lexer": "ipython3",
   "version": "3.9.7"
  },
  "orig_nbformat": 4
 },
 "nbformat": 4,
 "nbformat_minor": 2
}
