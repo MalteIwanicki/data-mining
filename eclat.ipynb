{
 "cells": [
  {
   "cell_type": "code",
   "execution_count": 1,
   "metadata": {},
   "outputs": [],
   "source": [
    "def eclat(transactions, threshold):\n",
    "    reduce = lambda tran: {\n",
    "        key: value for key, value in tran.items() if len(value) >= threshold\n",
    "    }\n",
    "    transactions = reduce(transactions)\n",
    "    out = {}\n",
    "    for i, key in enumerate(list(transactions)[:-1]):\n",
    "        for j, key2 in enumerate(list(transactions)[i + 1 :]):\n",
    "            intersection = list(set(transactions[key]).intersection(transactions[key2]))\n",
    "            if len(intersection) >= threshold:\n",
    "                k1 = str(key).replace(\",\", \"\")\n",
    "                k2 = str(key2).replace(\",\", \"\")\n",
    "                combined_key = \",\".join(sorted(set(f\"{k1}{k2}\")))\n",
    "                out[combined_key] = intersection\n",
    "    return out\n"
   ]
  },
  {
   "cell_type": "code",
   "execution_count": 2,
   "metadata": {},
   "outputs": [
    {
     "name": "stdout",
     "output_type": "stream",
     "text": [
      "{'A': [1, 3, 5], 'B': [1, 2, 3, 4], 'C': [1, 3, 4, 5, 6], 'D': [5], 'E': [1, 2, 3, 4], 'F': [1, 2, 4, 5, 6]} \n",
      "\n",
      "{'A,C': [1, 3, 5], 'B,C': [1, 3, 4], 'B,E': [1, 2, 3, 4], 'B,F': [1, 2, 4], 'C,E': [1, 3, 4], 'C,F': [1, 4, 5, 6], 'E,F': [1, 2, 4]} \n",
      "\n",
      "{'B,C,E': [1, 3, 4], 'B,E,F': [1, 2, 4]} \n",
      "\n",
      "{}\n"
     ]
    }
   ],
   "source": [
    "A = \"A\"\n",
    "B = \"B\"\n",
    "C = \"C\"\n",
    "D = \"D\"\n",
    "E = \"E\"\n",
    "F = \"F\"\n",
    "transactions = {\n",
    "    1: [A, B, C, E, F],\n",
    "    2: [B, E, F],\n",
    "    3: [A, B, C, E],\n",
    "    4: [B, C, E, F],\n",
    "    5: [A, C, D, F],\n",
    "    6: [C, F],\n",
    "}\n",
    "transactions = {\n",
    "    A: [1, 3, 5],\n",
    "    B: [1, 2, 3, 4],\n",
    "    C: [1, 3, 4, 5, 6],\n",
    "    D: [5],\n",
    "    E: [1, 2, 3, 4],\n",
    "    F: [1, 2, 4, 5, 6],\n",
    "}\n",
    "threshold = 3  # bzw absolut 3\n",
    "print(transactions, \"\\n\")\n",
    "itemset2 = eclat(transactions, threshold)\n",
    "print(itemset2, \"\\n\")\n",
    "itemset3 = eclat(itemset2, threshold)\n",
    "print(itemset3, \"\\n\")\n",
    "set4 = eclat(itemset3, threshold)\n",
    "print(set4)\n"
   ]
  },
  {
   "cell_type": "code",
   "execution_count": 3,
   "metadata": {},
   "outputs": [
    {
     "name": "stdout",
     "output_type": "stream",
     "text": [
      "{'1,2': [3, 6], '1,3': [1, 4, 7], '1,5': [1, 6, 7], '2,3': [8, 2, 5], '2,5': [5, 6], '3,4': [1, 2], '3,5': [1, 5, 7]}\n"
     ]
    },
    {
     "data": {
      "text/plain": [
       "{'1,3,5': [1, 7]}"
      ]
     },
     "execution_count": 3,
     "metadata": {},
     "output_type": "execute_result"
    }
   ],
   "source": [
    "transactions2 = {\n",
    "    1: [1, 3, 4, 6, 7],\n",
    "    2: [2, 3, 5, 6, 8],\n",
    "    3: [1, 2, 4, 5, 7, 8],\n",
    "    4: [1, 2],\n",
    "    5: [1, 5, 6, 7],\n",
    "}\n",
    "threshold2 = 2\n",
    "t2 = eclat(transactions2, threshold2)\n",
    "print(t2)\n",
    "t3 = eclat(t2, threshold2)\n",
    "t3\n"
   ]
  }
 ],
 "metadata": {
  "interpreter": {
   "hash": "b89b5cfaba6639976dc87ff2fec6d58faec662063367e2c229c520fe71072417"
  },
  "kernelspec": {
   "display_name": "Python 3.10.0 64-bit",
   "language": "python",
   "name": "python3"
  },
  "language_info": {
   "codemirror_mode": {
    "name": "ipython",
    "version": 3
   },
   "file_extension": ".py",
   "mimetype": "text/x-python",
   "name": "python",
   "nbconvert_exporter": "python",
   "pygments_lexer": "ipython3",
   "version": "3.9.7"
  },
  "orig_nbformat": 4
 },
 "nbformat": 4,
 "nbformat_minor": 2
}
