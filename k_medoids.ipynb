{
 "cells": [
  {
   "cell_type": "markdown",
   "metadata": {},
   "source": [
    "# K-Medoids"
   ]
  },
  {
   "cell_type": "code",
   "execution_count": 2,
   "metadata": {},
   "outputs": [],
   "source": [
    "data = [(5,6), (1,5), (2,7), (7,4), (6,3), (3,6), (5,1), (6,2), (5,3), (2,3)]\n",
    "initiale_repräsentanten=[(2,3),(6,3)]"
   ]
  },
  {
   "cell_type": "code",
   "execution_count": 3,
   "metadata": {},
   "outputs": [],
   "source": [
    "def manhatten_distance(point_a, point_b):\n",
    "    if len(point_a) != len(point_b):\n",
    "        raise Exception(\"cant create manhatten distance\")\n",
    "    sum = 0\n",
    "    for i in range(len(point_a)):\n",
    "        sum += abs(point_a[i] - point_b[i])\n",
    "    return sum"
   ]
  },
  {
   "cell_type": "markdown",
   "metadata": {},
   "source": [
    "## Partitioning Around Medoids"
   ]
  },
  {
   "cell_type": "code",
   "execution_count": 11,
   "metadata": {},
   "outputs": [
    {
     "data": {
      "text/plain": [
       "[1, 2, 3]"
      ]
     },
     "execution_count": 11,
     "metadata": {},
     "output_type": "execute_result"
    }
   ],
   "source": [
    "from random import randrange\n",
    "\n",
    "def get_zufällige_repräsentanten(data,anzahl):\n",
    "    index=[]\n",
    "    for _ in range(anzahl):\n",
    "        while True:\n",
    "            x = randrange(0,len(data))\n",
    "            if x not in index:\n",
    "                break\n",
    "        index.append(x)\n",
    "    return sorted([data[i] for i in index])\n",
    "        \n",
    "\n",
    "get_zufällige_repräsentanten([0,1,2,3,4,5,6,7,8,9],3)"
   ]
  },
  {
   "cell_type": "code",
   "execution_count": 12,
   "metadata": {},
   "outputs": [],
   "source": [
    "def initialisiere_repräsentanten(repräsentanten, data, anzahl_cluster):\n",
    "    return (\n",
    "        get_zufällige_repräsentanten(data, anzahl_cluster)\n",
    "        if not initiale_repräsentanten\n",
    "        else sorted([x for x in repräsentanten], key=sum)\n",
    "    )\n",
    "\n"
   ]
  },
  {
   "cell_type": "code",
   "execution_count": 13,
   "metadata": {},
   "outputs": [],
   "source": [
    "def weise_data_cluster_zu(clusters,data):\n",
    "    for point in data:\n",
    "            distances = {cluster: manhatten_distance(point, cluster) for cluster in clusters}\n",
    "            key_nähstes_clusters = min(distances, key=distances.get)\n",
    "            clusters[key_nähstes_clusters].append(point)"
   ]
  },
  {
   "cell_type": "code",
   "execution_count": 14,
   "metadata": {},
   "outputs": [],
   "source": [
    "def get_sum_of_distances_to_other_points_in_cluster(point_to_calc_distances_to, cluster):\n",
    "    sum_distance=0\n",
    "    for other_point in cluster:\n",
    "        sum_distance += manhatten_distance(point_to_calc_distances_to, other_point)\n",
    "    return sum_distance"
   ]
  },
  {
   "cell_type": "code",
   "execution_count": 18,
   "metadata": {},
   "outputs": [],
   "source": [
    "def get_pam(data, repräsentanten=None, anzahl_cluster=2):\n",
    "    data = sorted(data, key=sum)\n",
    "    repräsentanten = initialisiere_repräsentanten(repräsentanten, data, anzahl_cluster)\n",
    "    while True:\n",
    "        clusters = {center: [] for center in repräsentanten}\n",
    "        weise_data_cluster_zu(clusters, data)\n",
    "        # SWAP\n",
    "        swaped=True\n",
    "        while True:\n",
    "            # TODO\n",
    "            for cluster in clusters:\n",
    "                distances={}\n",
    "                for point in clusters[cluster]:\n",
    "                    distances[point]=get_sum_of_distances_to_other_points_in_cluster(point,clusters[cluster])\n",
    "                    \n",
    "            if not swaped: break\n",
    "            \n",
    "        repräsentanten = []\n",
    "        for cluster in clusters.values():\n",
    "            distanzen = {}\n",
    "            for point in cluster:\n",
    "                distanzen[point] = sum(\n",
    "                    [manhatten_distance(point, other) for other in cluster]\n",
    "                )\n",
    "            key_best_gelegener = min(distanzen, key=distanzen.get)\n",
    "            repräsentanten.append(key_best_gelegener)\n",
    "            if repräsentanten[-1] is not alte.pop(0):\n",
    "                changed = True\n",
    "        print(clusters)\n",
    "        if not changed:\n",
    "            break\n",
    "    return clusters\n",
    "\n",
    "\n",
    "get_pam(data, initiale_repräsentanten)\n",
    "\n"
   ]
  },
  {
   "cell_type": "code",
   "execution_count": 7,
   "metadata": {},
   "outputs": [],
   "source": [
    "a={1:[\"a\"],2:\"b\"}"
   ]
  },
  {
   "cell_type": "code",
   "execution_count": 8,
   "metadata": {},
   "outputs": [
    {
     "name": "stdout",
     "output_type": "stream",
     "text": [
      "['a']\n",
      "b\n"
     ]
    }
   ],
   "source": [
    "for c in a.values():\n",
    "    print(c)"
   ]
  },
  {
   "cell_type": "code",
   "execution_count": 9,
   "metadata": {},
   "outputs": [
    {
     "data": {
      "text/plain": [
       "array([0, 0, 0, 1, 1, 0, 1, 1, 1, 0], dtype=int64)"
      ]
     },
     "execution_count": 9,
     "metadata": {},
     "output_type": "execute_result"
    }
   ],
   "source": [
    "from sklearn_extra.cluster import KMedoids\n",
    "import numpy as np\n",
    "kmedoids = KMedoids(n_clusters=2, random_state=0).fit(data)\n",
    "kmedoids.labels_"
   ]
  },
  {
   "cell_type": "code",
   "execution_count": null,
   "metadata": {},
   "outputs": [],
   "source": []
  }
 ],
 "metadata": {
  "interpreter": {
   "hash": "ecf5722fdaf1897a315d257d89d94520bfcaa453217d5becf09b39e73618b0de"
  },
  "kernelspec": {
   "display_name": "Python 3.9.7 64-bit ('base': conda)",
   "language": "python",
   "name": "python3"
  },
  "language_info": {
   "codemirror_mode": {
    "name": "ipython",
    "version": 3
   },
   "file_extension": ".py",
   "mimetype": "text/x-python",
   "name": "python",
   "nbconvert_exporter": "python",
   "pygments_lexer": "ipython3",
   "version": "3.9.7"
  },
  "orig_nbformat": 4
 },
 "nbformat": 4,
 "nbformat_minor": 2
}
